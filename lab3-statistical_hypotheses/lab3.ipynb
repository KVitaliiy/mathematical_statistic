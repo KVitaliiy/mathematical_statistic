{
 "cells": [
  {
   "cell_type": "markdown",
   "id": "70f9d271",
   "metadata": {},
   "source": [
    "# Лабораторная работа 3. Статистические гипотезы."
   ]
  },
  {
   "cell_type": "markdown",
   "id": "a2bd0879",
   "metadata": {},
   "source": [
    "## Reading data and creating table of interval variational series (аналогично первой лабораторной работе)"
   ]
  },
  {
   "cell_type": "code",
   "execution_count": 76,
   "id": "a9c0ef55",
   "metadata": {
    "tags": []
   },
   "outputs": [],
   "source": [
    "import numpy as np\n",
    "import pandas as pd\n",
    "import matplotlib.pyplot as plt"
   ]
  },
  {
   "cell_type": "code",
   "execution_count": 166,
   "id": "7be9f255",
   "metadata": {
    "tags": []
   },
   "outputs": [],
   "source": [
    "path_to_data = \"data.xlsx\"\n",
    "df = pd.read_excel(path_to_data)\n",
    "df.head()\n",
    "writing_score = df['writing score'].copy()\n",
    "reading_score = df['reading score'].copy()\n",
    "\n",
    "writing_score.sort_values(inplace=True)\n",
    "writing_score.reset_index(inplace=True, drop=True)\n",
    "reading_score.sort_values(inplace=True)\n",
    "reading_score.reset_index(inplace=True, drop=True)\n",
    "\n",
    "writing_min = min(writing_score.min(), reading_score.min())\n",
    "writing_max = max(writing_score.max(), reading_score.max())\n",
    "writing_elements_count = writing_score.count()\n",
    "writing_range = writing_max - writing_min \n",
    "writing_intervals_count = 15\n",
    "writing_len_interval = writing_range / writing_intervals_count\n",
    "writing_a = [writing_min + i*writing_len_interval for i in range(writing_intervals_count + 1)]\n",
    "writing_indicates = writing_score.groupby(pd.cut(writing_score, writing_a, include_lowest=True)).count()\n",
    "writing_indicates.name = 'indicates'\n",
    "writing_frequency = writing_indicates / writing_elements_count\n",
    "writing_frequency.name = 'frequency'\n",
    "writing_hist = writing_frequency / writing_len_interval\n",
    "writing_hist.name = \"hist\"\n",
    "writing_points = [(writing_a[i] + writing_a[i + 1]) / 2 for i in range(writing_intervals_count)]\n",
    "writing_F = writing_frequency.cumsum()\n",
    "writing_F.name = 'F'\n",
    "expect_writing_score = writing_points * writing_frequency\n",
    "expect_writing_score.name = \"expect\"\n",
    "expect_square_writing_score = (writing_points * writing_frequency) * writing_points\n",
    "expect_square_writing_score.name = 'expect_square'\n",
    "\n",
    "reading_min = min(writing_score.min(), reading_score.min())\n",
    "reading_max = max(writing_score.max(), reading_score.max())\n",
    "reading_elements_count = reading_score.count()\n",
    "reading_range = reading_max - reading_min \n",
    "reading_intervals_count = 20\n",
    "reading_len_interval = reading_range / reading_intervals_count\n",
    "reading_a = [reading_min + i*reading_len_interval for i in range(reading_intervals_count + 1)]\n",
    "reading_indicates = reading_score.groupby(pd.cut(reading_score, reading_a, include_lowest=True)).count()\n",
    "reading_indicates.name = 'indicates'\n",
    "reading_frequency = reading_indicates / reading_elements_count\n",
    "reading_frequency.name = 'frequency'\n",
    "reading_hist = reading_frequency / reading_len_interval\n",
    "reading_hist.name = \"hist\"\n",
    "reading_points = [(reading_a[i] + reading_a[i + 1]) / 2 for i in range(reading_intervals_count)]\n",
    "reading_F = reading_frequency.cumsum()\n",
    "reading_F.name = 'F'\n",
    "expect_reading_score = reading_points * reading_frequency\n",
    "expect_reading_score.name = \"expect\"\n",
    "expect_square_reading_score = (reading_points * reading_frequency) * reading_points\n",
    "expect_square_reading_score.name = 'expect_square'"
   ]
  },
  {
   "cell_type": "markdown",
   "id": "f4358d45",
   "metadata": {},
   "source": [
    "## Проверка на однородность reading_score and writing_score с помощью критерия Колмогорова Смирнова"
   ]
  },
  {
   "cell_type": "markdown",
   "id": "5614cc2e-9433-486f-b2b4-15ba34b73b85",
   "metadata": {},
   "source": [
    "$$ D_{n,m}= \\sup_{-\\infty<x<\\infty} |\\hat{F}_{1n}(x) - \\hat{F}_{2m}(x)| \\text{ - статистика Колмогорова}$$\n",
    "$$ 1 - K(\\lambda_{\\alpha}) = \\alpha $$\n",
    "$$ H_0 \\text{ отвергается } \\Leftrightarrow  D_{n,m} > \\lambda_{\\alpha}\\sqrt{\\frac{1}{n}+\\frac{1}{m}} \\text {  - Критерий однородности Смирнова-Колмогорова}$$\n",
    "$$ \\text {Эффективная формула для расчета статистики Колмогорова из книги Г.И.Ивченко, Ю.И.Медведев введение в математическую статистику.} $$\n",
    "$$ D_{n,m}^+ = \\max_{ 1\\le s \\le n}\\left( \\hat{F}_{2m}(X_{(s)}) - \\frac{s-1}{n} \\right) $$\n",
    "$$ D_{n,m}^- = \\max_{ 1\\le s \\le n}\\left( \\frac{s}{n} - \\hat{F}_{2m}(X_{(s)}) \\right) $$"
   ]
  },
  {
   "cell_type": "code",
   "execution_count": 167,
   "id": "17c95cd6",
   "metadata": {
    "tags": []
   },
   "outputs": [
    {
     "data": {
      "text/plain": [
       "False"
      ]
     },
     "execution_count": 167,
     "metadata": {},
     "output_type": "execute_result"
    }
   ],
   "source": [
    "from scipy.stats import kstwobign\n",
    "from math import sqrt\n",
    "def statitic_2k(X, F_Y, n):\n",
    "    p_D = max([F_Y[X[i]] - (i - 1)/n for i in range(n)])\n",
    "    n_D = max([i/n - F_Y[X[i]] for i in range(n)])\n",
    "    return (max(p_D, n_D))\n",
    "def uniformity_ks_test(X, Y, F_X, F_Y, alpha):\n",
    "    n = len(X)\n",
    "    D = statitic_2k(X, F_Y, n)\n",
    "    t = kstwobign.ppf(1 - alpha)\n",
    "    return not D >= t*sqrt(1/len(X) + 1/len(Y))\n",
    "uniformity_ks_test(reading_score, writing_score, reading_F, writing_F, 0.05)"
   ]
  },
  {
   "cell_type": "markdown",
   "id": "a25621f0-1bb3-497d-b343-efb6fba817fb",
   "metadata": {},
   "source": [
    "Из теста Колмогорова-Смирнова следует, что выборки из разных распредлений"
   ]
  },
  {
   "cell_type": "markdown",
   "id": "2217339a-52db-41ab-9eb4-9c14f916907a",
   "metadata": {},
   "source": [
    "## Проверка на принадлежность reading score к классу равномерных распредлений с помощью критерия Колмогорова"
   ]
  },
  {
   "cell_type": "markdown",
   "id": "6c217df5-3f9d-41ae-80c6-6e663e1ddf1e",
   "metadata": {},
   "source": [
    "$$ D_{n}= \\sup_{-\\infty<x<\\infty} |F(x) - \\hat{F}_{n}(x)| \\text{ - статистика Колмогорова}$$\n",
    "$$ 1 - K(\\lambda_{\\alpha}) = \\alpha $$\n",
    "$$ H_0 \\text{ отвергается } \\Leftrightarrow  \\sqrt{n}*D_{n} > \\lambda_{\\alpha} \\text {  - Критерий согласия Колмогорова}$$\n",
    "$$ \\text {Эффективная формула для расчета статистики Колмогорова из книги Г.И.Ивченко, Ю.И.Медведев введение в математическую статистику.} $$\n",
    "$$ D_{n,m}^- = \\max_{ 1\\le s \\le n}\\left( F(X_{(s)}) - \\frac{s-1}{n} \\right) $$\n",
    "$$ D_{n,m}^+ = \\max_{ 1\\le s \\le n}\\left( \\frac{s}{n} - F(X_{(s)}) \\right) $$"
   ]
  },
  {
   "cell_type": "code",
   "execution_count": 197,
   "id": "1b8a0a60-4e3b-4225-9ed0-38a18df9c6a3",
   "metadata": {
    "tags": []
   },
   "outputs": [],
   "source": [
    "def statitic_k(X, func, n):\n",
    "    n_D = max([func[X[i] - 1] - (i - 1)/n for i in range(n)])\n",
    "    print(n_D)\n",
    "    p_D = max([i/n - func[X[i] - 1] for i in range(n)])\n",
    "    print(p_D)\n",
    "    return (max(p_D, n_D))\n",
    "\n",
    "def ks_test(X, func, alpha):\n",
    "    n = len(X)\n",
    "    D = statitic_k(X, func, n)\n",
    "    print(D)\n",
    "    t = kstwobign.ppf(1 - alpha)\n",
    "    return not sqrt(n)*D >= t"
   ]
  },
  {
   "cell_type": "code",
   "execution_count": 195,
   "id": "7f7bea2f-f6b8-4cfe-aaed-9a2f1df0ab28",
   "metadata": {
    "tags": []
   },
   "outputs": [
    {
     "ename": "TypeError",
     "evalue": "'method' object is not subscriptable",
     "output_type": "error",
     "traceback": [
      "\u001b[1;31m---------------------------------------------------------------------------\u001b[0m",
      "\u001b[1;31mTypeError\u001b[0m                                 Traceback (most recent call last)",
      "Cell \u001b[1;32mIn[195], line 2\u001b[0m\n\u001b[0;32m      1\u001b[0m \u001b[38;5;28;01mfrom\u001b[39;00m \u001b[38;5;21;01mscipy\u001b[39;00m\u001b[38;5;21;01m.\u001b[39;00m\u001b[38;5;21;01mstats\u001b[39;00m \u001b[38;5;28;01mimport\u001b[39;00m uniform\n\u001b[1;32m----> 2\u001b[0m \u001b[43mks_test\u001b[49m\u001b[43m(\u001b[49m\u001b[43mreading_score\u001b[49m\u001b[43m,\u001b[49m\u001b[43m \u001b[49m\u001b[43muniform\u001b[49m\u001b[38;5;241;43m.\u001b[39;49m\u001b[43mcdf\u001b[49m\u001b[43m,\u001b[49m\u001b[43m \u001b[49m\u001b[38;5;241;43m0.05\u001b[39;49m\u001b[43m)\u001b[49m\n",
      "Cell \u001b[1;32mIn[194], line 10\u001b[0m, in \u001b[0;36mks_test\u001b[1;34m(X, func, alpha)\u001b[0m\n\u001b[0;32m      8\u001b[0m \u001b[38;5;28;01mdef\u001b[39;00m \u001b[38;5;21mks_test\u001b[39m(X, func, alpha):\n\u001b[0;32m      9\u001b[0m     n \u001b[38;5;241m=\u001b[39m \u001b[38;5;28mlen\u001b[39m(X)\n\u001b[1;32m---> 10\u001b[0m     D \u001b[38;5;241m=\u001b[39m \u001b[43mstatitic_k\u001b[49m\u001b[43m(\u001b[49m\u001b[43mX\u001b[49m\u001b[43m,\u001b[49m\u001b[43m \u001b[49m\u001b[43mfunc\u001b[49m\u001b[43m,\u001b[49m\u001b[43m \u001b[49m\u001b[43mn\u001b[49m\u001b[43m)\u001b[49m\n\u001b[0;32m     11\u001b[0m     \u001b[38;5;28mprint\u001b[39m(D)\n\u001b[0;32m     12\u001b[0m     t \u001b[38;5;241m=\u001b[39m kstwobign\u001b[38;5;241m.\u001b[39mppf(\u001b[38;5;241m1\u001b[39m \u001b[38;5;241m-\u001b[39m alpha)\n",
      "Cell \u001b[1;32mIn[194], line 2\u001b[0m, in \u001b[0;36mstatitic_k\u001b[1;34m(X, func, n)\u001b[0m\n\u001b[0;32m      1\u001b[0m \u001b[38;5;28;01mdef\u001b[39;00m \u001b[38;5;21mstatitic_k\u001b[39m(X, func, n):\n\u001b[1;32m----> 2\u001b[0m     n_D \u001b[38;5;241m=\u001b[39m \u001b[38;5;28mmax\u001b[39m(\u001b[43m[\u001b[49m\u001b[43mfunc\u001b[49m\u001b[43m[\u001b[49m\u001b[43mX\u001b[49m\u001b[43m[\u001b[49m\u001b[43mi\u001b[49m\u001b[43m]\u001b[49m\u001b[43m \u001b[49m\u001b[38;5;241;43m-\u001b[39;49m\u001b[43m \u001b[49m\u001b[38;5;241;43m1\u001b[39;49m\u001b[43m]\u001b[49m\u001b[43m \u001b[49m\u001b[38;5;241;43m-\u001b[39;49m\u001b[43m \u001b[49m\u001b[43m(\u001b[49m\u001b[43mi\u001b[49m\u001b[43m \u001b[49m\u001b[38;5;241;43m-\u001b[39;49m\u001b[43m \u001b[49m\u001b[38;5;241;43m1\u001b[39;49m\u001b[43m)\u001b[49m\u001b[38;5;241;43m/\u001b[39;49m\u001b[43mn\u001b[49m\u001b[43m \u001b[49m\u001b[38;5;28;43;01mfor\u001b[39;49;00m\u001b[43m \u001b[49m\u001b[43mi\u001b[49m\u001b[43m \u001b[49m\u001b[38;5;129;43;01min\u001b[39;49;00m\u001b[43m \u001b[49m\u001b[38;5;28;43mrange\u001b[39;49m\u001b[43m(\u001b[49m\u001b[43mn\u001b[49m\u001b[43m)\u001b[49m\u001b[43m]\u001b[49m)\n\u001b[0;32m      3\u001b[0m     \u001b[38;5;28mprint\u001b[39m(n_D)\n\u001b[0;32m      4\u001b[0m     p_D \u001b[38;5;241m=\u001b[39m \u001b[38;5;28mmax\u001b[39m([i\u001b[38;5;241m/\u001b[39mn \u001b[38;5;241m-\u001b[39m func[X[i]] \u001b[38;5;28;01mfor\u001b[39;00m i \u001b[38;5;129;01min\u001b[39;00m \u001b[38;5;28mrange\u001b[39m(n)])\n",
      "Cell \u001b[1;32mIn[194], line 2\u001b[0m, in \u001b[0;36m<listcomp>\u001b[1;34m(.0)\u001b[0m\n\u001b[0;32m      1\u001b[0m \u001b[38;5;28;01mdef\u001b[39;00m \u001b[38;5;21mstatitic_k\u001b[39m(X, func, n):\n\u001b[1;32m----> 2\u001b[0m     n_D \u001b[38;5;241m=\u001b[39m \u001b[38;5;28mmax\u001b[39m([\u001b[43mfunc\u001b[49m\u001b[43m[\u001b[49m\u001b[43mX\u001b[49m\u001b[43m[\u001b[49m\u001b[43mi\u001b[49m\u001b[43m]\u001b[49m\u001b[43m \u001b[49m\u001b[38;5;241;43m-\u001b[39;49m\u001b[43m \u001b[49m\u001b[38;5;241;43m1\u001b[39;49m\u001b[43m]\u001b[49m \u001b[38;5;241m-\u001b[39m (i \u001b[38;5;241m-\u001b[39m \u001b[38;5;241m1\u001b[39m)\u001b[38;5;241m/\u001b[39mn \u001b[38;5;28;01mfor\u001b[39;00m i \u001b[38;5;129;01min\u001b[39;00m \u001b[38;5;28mrange\u001b[39m(n)])\n\u001b[0;32m      3\u001b[0m     \u001b[38;5;28mprint\u001b[39m(n_D)\n\u001b[0;32m      4\u001b[0m     p_D \u001b[38;5;241m=\u001b[39m \u001b[38;5;28mmax\u001b[39m([i\u001b[38;5;241m/\u001b[39mn \u001b[38;5;241m-\u001b[39m func[X[i]] \u001b[38;5;28;01mfor\u001b[39;00m i \u001b[38;5;129;01min\u001b[39;00m \u001b[38;5;28mrange\u001b[39m(n)])\n",
      "\u001b[1;31mTypeError\u001b[0m: 'method' object is not subscriptable"
     ]
    }
   ],
   "source": [
    "from scipy.stats import uniform\n",
    "ks_test(reading_score, uniform.cdf, 0.05)"
   ]
  },
  {
   "cell_type": "markdown",
   "id": "460bc0f0-c0ab-4757-97b9-6f853cb8dc4a",
   "metadata": {},
   "source": [
    "Из теста Колмогорова следует, что reading не распредлено равномерно."
   ]
  },
  {
   "cell_type": "code",
   "execution_count": 198,
   "id": "3ae96683-ddfb-464f-bac3-ff44b4b22a0c",
   "metadata": {
    "tags": []
   },
   "outputs": [
    {
     "name": "stdout",
     "output_type": "stream",
     "text": [
      "0.03822637497478748\n",
      "0.056911291103483336\n",
      "0.056911291103483336\n"
     ]
    },
    {
     "data": {
      "text/plain": [
       "True"
      ]
     },
     "execution_count": 198,
     "metadata": {},
     "output_type": "execute_result"
    }
   ],
   "source": [
    "from scipy.stats import norm\n",
    "ks_test(reading_score, norm.cdf(range(0, max(reading_score)), loc=reading_score.mean(), scale = reading_score.std()), 0.05)"
   ]
  },
  {
   "cell_type": "code",
   "execution_count": 200,
   "id": "04fd0bdc-4ac3-455b-ab14-d63ca9852c86",
   "metadata": {
    "tags": []
   },
   "outputs": [
    {
     "ename": "TypeError",
     "evalue": "rv_continuous.cdf() missing 1 required positional argument: 'x'",
     "output_type": "error",
     "traceback": [
      "\u001b[1;31m---------------------------------------------------------------------------\u001b[0m",
      "\u001b[1;31mTypeError\u001b[0m                                 Traceback (most recent call last)",
      "Cell \u001b[1;32mIn[200], line 2\u001b[0m\n\u001b[0;32m      1\u001b[0m \u001b[38;5;28;01mfrom\u001b[39;00m \u001b[38;5;21;01mscipy\u001b[39;00m\u001b[38;5;21;01m.\u001b[39;00m\u001b[38;5;21;01mstats\u001b[39;00m \u001b[38;5;28;01mimport\u001b[39;00m ks_1samp\n\u001b[1;32m----> 2\u001b[0m ks_1samp(reading_score, \u001b[43mnorm\u001b[49m\u001b[38;5;241;43m.\u001b[39;49m\u001b[43mcdf\u001b[49m\u001b[43m(\u001b[49m\u001b[43mloc\u001b[49m\u001b[38;5;241;43m=\u001b[39;49m\u001b[43mreading_score\u001b[49m\u001b[38;5;241;43m.\u001b[39;49m\u001b[43mmean\u001b[49m\u001b[43m(\u001b[49m\u001b[43m)\u001b[49m\u001b[43m,\u001b[49m\u001b[43m \u001b[49m\u001b[43mscale\u001b[49m\u001b[43m \u001b[49m\u001b[38;5;241;43m=\u001b[39;49m\u001b[43m \u001b[49m\u001b[43mreading_score\u001b[49m\u001b[38;5;241;43m.\u001b[39;49m\u001b[43mstd\u001b[49m\u001b[43m(\u001b[49m\u001b[43m)\u001b[49m\u001b[43m)\u001b[49m)\n",
      "\u001b[1;31mTypeError\u001b[0m: rv_continuous.cdf() missing 1 required positional argument: 'x'"
     ]
    }
   ],
   "source": [
    "from scipy.stats import ks_1samp\n",
    "ks_1samp(reading_score, norm.cdf(, range(0, 100), loc=reading_score.mean(), scale = reading_score.std()))"
   ]
  },
  {
   "cell_type": "code",
   "execution_count": 172,
   "id": "197d8f85-8aaa-4e13-a78b-6039abb0a9ef",
   "metadata": {
    "tags": []
   },
   "outputs": [
    {
     "data": {
      "text/plain": [
       "KstestResult(statistic=1.0, pvalue=1.9426434495222354e-119, statistic_location=1.0, statistic_sign=-1)"
      ]
     },
     "execution_count": 172,
     "metadata": {},
     "output_type": "execute_result"
    }
   ],
   "source": [
    "kstest(reading_score, uniform.cdf(reading_score, loc=reading_score.mean(), scale = reading_score.std()))"
   ]
  },
  {
   "cell_type": "code",
   "execution_count": 188,
   "id": "1b4477db-22c0-4d65-8c41-f405b0132f09",
   "metadata": {
    "tags": []
   },
   "outputs": [
    {
     "data": {
      "text/plain": [
       "Text(0.5, 1.0, 'Sample distribution function')"
      ]
     },
     "execution_count": 188,
     "metadata": {},
     "output_type": "execute_result"
    },
    {
     "data": {
      "image/png": "[encoded data removed]",
      "text/plain": [
       "<Figure size 640x480 with 1 Axes>"
      ]
     },
     "metadata": {},
     "output_type": "display_data"
    }
   ],
   "source": [
    "fig, ax = plt.subplots()\n",
    "ax.plot(reading_points, reading_F.values)\n",
    "ax.set_title('Sample distribution function')"
   ]
  },
  {
   "cell_type": "code",
   "execution_count": 174,
   "id": "186d0bfe-4ed5-49bc-b6a7-297a4923ec6f",
   "metadata": {
    "tags": []
   },
   "outputs": [
    {
     "data": {
      "text/plain": [
       "16"
      ]
     },
     "execution_count": 174,
     "metadata": {},
     "output_type": "execute_result"
    },
    {
     "data": {
      "image/png": "[encoded data removed]",
      "text/plain": [
       "<Figure size 640x480 with 1 Axes>"
      ]
     },
     "metadata": {},
     "output_type": "display_data"
    }
   ],
   "source": [
    "fig, ax = plt.subplots()\n",
    "ax.bar(reading_a[:reading_intervals_count], reading_hist.values, width=reading_len_interval-0.4, align='edge')\n",
    "ax.set_title('Histogram')\n",
    "len(writing_a[:reading_intervals_count])"
   ]
  },
  {
   "cell_type": "code",
   "execution_count": 175,
   "id": "a9783daf-d232-4ba2-b94f-2b9e75ca0c54",
   "metadata": {
    "tags": []
   },
   "outputs": [
    {
     "data": {
      "text/plain": [
       "0       25\n",
       "1       31\n",
       "2       35\n",
       "3       35\n",
       "4       37\n",
       "      ... \n",
       "195     97\n",
       "196     97\n",
       "197     98\n",
       "198    100\n",
       "199    100\n",
       "Name: reading score, Length: 200, dtype: int64"
      ]
     },
     "execution_count": 175,
     "metadata": {},
     "output_type": "execute_result"
    }
   ],
   "source": [
    "reading_score"
   ]
  },
  {
   "cell_type": "code",
   "execution_count": 185,
   "id": "868688f9-b7fc-476a-bf0c-ee23410cc280",
   "metadata": {
    "tags": []
   },
   "outputs": [
    {
     "data": {
      "text/plain": [
       "100"
      ]
     },
     "execution_count": 185,
     "metadata": {},
     "output_type": "execute_result"
    }
   ],
   "source": [
    "y = norm.cdf(range(0, max(reading_score), 1), loc=reading_score.mean(), scale = reading_score.std())\n",
    "len(y)"
   ]
  },
  {
   "cell_type": "code",
   "execution_count": 189,
   "id": "eeba3025-d601-43e9-b0d2-b87778f272ee",
   "metadata": {
    "tags": []
   },
   "outputs": [
    {
     "data": {
      "text/plain": [
       "[<matplotlib.lines.Line2D at 0x165282d00d0>]"
      ]
     },
     "execution_count": 189,
     "metadata": {},
     "output_type": "execute_result"
    },
    {
     "data": {
      "image/png": "[encoded data removed]",
      "text/plain": [
       "<Figure size 640x480 with 1 Axes>"
      ]
     },
     "metadata": {},
     "output_type": "display_data"
    }
   ],
   "source": [
    "fig, ax = plt.subplots()\n",
    "ax.plot(y)"
   ]
  },
  {
   "cell_type": "code",
   "execution_count": 178,
   "id": "b8f5f94b-d392-4042-8504-fbf2e45faf9b",
   "metadata": {
    "tags": []
   },
   "outputs": [],
   "source": [
    "y = uniform.cdf(reading_score, loc=reading_score.mean(), scale = reading_score.std())"
   ]
  },
  {
   "cell_type": "code",
   "execution_count": null,
   "id": "7ab41779-dd00-44cd-9c75-51202430af7f",
   "metadata": {},
   "outputs": [],
   "source": []
  },
  {
   "cell_type": "code",
   "execution_count": null,
   "id": "d5e99143-db40-48af-b9c1-4d1cbc4cdf71",
   "metadata": {},
   "outputs": [],
   "source": []
  }
 ],
 "metadata": {
  "kernelspec": {
   "display_name": "Python 3 (ipykernel)",
   "language": "python",
   "name": "python3"
  },
  "language_info": {
   "codemirror_mode": {
    "name": "ipython",
    "version": 3
   },
   "file_extension": ".py",
   "mimetype": "text/x-python",
   "name": "python",
   "nbconvert_exporter": "python",
   "pygments_lexer": "ipython3",
   "version": "3.11.1"
  }
 },
 "nbformat": 4,
 "nbformat_minor": 5
}
