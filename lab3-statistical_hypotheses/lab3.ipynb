{
 "cells": [
  {
   "cell_type": "markdown",
   "id": "70f9d271",
   "metadata": {},
   "source": [
    "# Лабораторная работа 3. Статистические гипотезы."
   ]
  },
  {
   "cell_type": "markdown",
   "id": "a2bd0879",
   "metadata": {},
   "source": [
    "## Reading data and creating table of interval variational series (аналогично первой лабораторной работе)"
   ]
  },
  {
   "cell_type": "code",
   "execution_count": 1,
   "id": "a9c0ef55",
   "metadata": {
    "tags": []
   },
   "outputs": [],
   "source": [
    "import numpy as np\n",
    "import pandas as pd\n",
    "import matplotlib.pyplot as plt"
   ]
  },
  {
   "cell_type": "code",
   "execution_count": 40,
   "id": "7be9f255",
   "metadata": {
    "tags": []
   },
   "outputs": [],
   "source": [
    "path_to_data = \"data.xlsx\"\n",
    "df = pd.read_excel(path_to_data)\n",
    "df.head()\n",
    "writing_score = df['writing score'].copy()\n",
    "reading_score = df['reading score'].copy()\n",
    "\n",
    "writing_score.sort_values(inplace=True)\n",
    "writing_score.reset_index(inplace=True, drop=True)\n",
    "reading_score.sort_values(inplace=True)\n",
    "reading_score.reset_index(inplace=True, drop=True)\n",
    "\n",
    "writing_min = min(writing_score.min(), reading_score.min())\n",
    "writing_max = max(writing_score.max(), reading_score.max())\n",
    "writing_elements_count = writing_score.count()\n",
    "writing_range = writing_max - writing_min \n",
    "writing_intervals_count = 15\n",
    "writing_len_interval = writing_range / writing_intervals_count\n",
    "writing_a = [writing_min + i*writing_len_interval for i in range(writing_intervals_count + 1)]\n",
    "writing_indicates = writing_score.groupby(pd.cut(writing_score, writing_a, include_lowest=True)).count()\n",
    "writing_indicates.name = 'indicates'\n",
    "writing_frequency = writing_indicates / writing_elements_count\n",
    "writing_frequency.name = 'frequency'\n",
    "writing_hist = writing_frequency / writing_len_interval\n",
    "writing_hist.name = \"hist\"\n",
    "writing_points = [(writing_a[i] + writing_a[i + 1]) / 2 for i in range(writing_intervals_count)]\n",
    "writing_F = writing_frequency.cumsum()\n",
    "writing_F.name = 'F'\n",
    "expect_writing_score = writing_points * writing_frequency\n",
    "expect_writing_score.name = \"expect\"\n",
    "expect_square_writing_score = (writing_points * writing_frequency) * writing_points\n",
    "expect_square_writing_score.name = 'expect_square'\n",
    "\n",
    "reading_min = min(writing_score.min(), reading_score.min())\n",
    "reading_max = max(writing_score.max(), reading_score.max())\n",
    "reading_elements_count = reading_score.count()\n",
    "reading_range = reading_max - reading_min \n",
    "reading_intervals_count = 15\n",
    "reading_len_interval = reading_range / reading_intervals_count\n",
    "reading_a = [reading_min + i*reading_len_interval for i in range(reading_intervals_count + 1)]\n",
    "reading_indicates = reading_score.groupby(pd.cut(reading_score, reading_a, include_lowest=True)).count()\n",
    "reading_indicates.name = 'indicates'\n",
    "reading_frequency = reading_indicates / reading_elements_count\n",
    "reading_frequency.name = 'frequency'\n",
    "reading_hist = reading_frequency / reading_len_interval\n",
    "reading_hist.name = \"hist\"\n",
    "reading_points = [(reading_a[i] + reading_a[i + 1]) / 2 for i in range(reading_intervals_count)]\n",
    "reading_F = reading_frequency.cumsum()\n",
    "reading_F.name = 'F'\n",
    "expect_reading_score = reading_points * reading_frequency\n",
    "expect_reading_score.name = \"expect\"\n",
    "expect_square_reading_score = (reading_points * reading_frequency) * reading_points\n",
    "expect_square_reading_score.name = 'expect_square'"
   ]
  },
  {
   "cell_type": "markdown",
   "id": "f4358d45",
   "metadata": {},
   "source": [
    "## Проверка на однородность reading_score and writing_score с помощью критерия Колмогорова Смирнова"
   ]
  },
  {
   "cell_type": "markdown",
   "id": "5614cc2e-9433-486f-b2b4-15ba34b73b85",
   "metadata": {},
   "source": [
    "$$ D_{n,m}= \\sup_{-\\infty<x<\\infty} |\\hat{F}_{1n}(x) - \\hat{F}_{2m}(x)| \\text{ - статистика Колмогорова}$$\n",
    "$$ 1 - K(\\lambda_{\\alpha}) = \\alpha $$\n",
    "$$ H_0 \\text{ отвергается } \\Leftrightarrow  D_{n,m} > \\lambda_{\\alpha}\\sqrt{\\frac{1}{n}+\\frac{1}{m}} \\text {  - Критерий однородности Смирнова-Колмогорова}$$\n",
    "$$ \\text {Эффективная формула для расчета статистики Колмогорова из книги Г.И.Ивченко, Ю.И.Медведев введение в математическую статистику.} $$"
   ]
  },
  {
   "cell_type": "code",
   "execution_count": 71,
   "id": "17c95cd6",
   "metadata": {
    "tags": []
   },
   "outputs": [
    {
     "name": "stdout",
     "output_type": "stream",
     "text": [
      "0.8\n",
      "1.3580986393225505\n"
     ]
    },
    {
     "data": {
      "text/plain": [
       "False"
      ]
     },
     "execution_count": 71,
     "metadata": {},
     "output_type": "execute_result"
    }
   ],
   "source": [
    "from scipy.stats import kstwobign\n",
    "from math import sqrt\n",
    "def statitic_k(F_X, F_Y):\n",
    "    return max(abs(F_X - F_Y))\n",
    "\n",
    "def ks_test(F_X, F_Y, alpha=0.05):\n",
    "    n = len(F_X)\n",
    "    D = statitic_k(F_X, F_Y)\n",
    "    print(D)\n",
    "    t = kstwobign.ppf(1 - alpha)\n",
    "    print(t)\n",
    "    return not sqrt(n)*D >= t\n",
    "\n",
    "ks_test(writing_F, reading_F)"
   ]
  },
  {
   "cell_type": "markdown",
   "id": "a25621f0-1bb3-497d-b343-efb6fba817fb",
   "metadata": {},
   "source": [
    "Из теста Колмогорова-Смирнова следует, что выборки из разных распредлений"
   ]
  },
  {
   "cell_type": "markdown",
   "id": "2217339a-52db-41ab-9eb4-9c14f916907a",
   "metadata": {},
   "source": [
    "## Проверка на принадлежность reading score к классу равномерных распредлений с помощью критерия Колмогорова"
   ]
  },
  {
   "cell_type": "markdown",
   "id": "6c217df5-3f9d-41ae-80c6-6e663e1ddf1e",
   "metadata": {},
   "source": [
    "$$ D_{n}= \\sup_{-\\infty<x<\\infty} |F(x) - \\hat{F}_{n}(x)| \\text{ - статистика Колмогорова}$$\n",
    "$$ 1 - K(\\lambda_{\\alpha}) = \\alpha $$\n",
    "$$ H_0 \\text{ отвергается } \\Leftrightarrow  \\sqrt{n}*D_{n} > \\lambda_{\\alpha} \\text {  - Критерий согласия Колмогорова}$$"
   ]
  },
  {
   "cell_type": "code",
   "execution_count": 72,
   "id": "1b8a0a60-4e3b-4225-9ed0-38a18df9c6a3",
   "metadata": {
    "tags": []
   },
   "outputs": [
    {
     "name": "stdout",
     "output_type": "stream",
     "text": [
      "3.3333333333333335 96.66666666666667\n",
      "0.3185714285714285\n",
      "1.3580986393225505\n"
     ]
    },
    {
     "data": {
      "text/plain": [
       "True"
      ]
     },
     "execution_count": 72,
     "metadata": {},
     "output_type": "execute_result"
    }
   ],
   "source": [
    "a = min(reading_points)\n",
    "b = max(reading_points)\n",
    "print(a, b)\n",
    "value_F = [(x - a)/(b - a) for x in reading_points]\n",
    "F = pd.Series(value_F, reading_F.index)\n",
    "ks_test(F, reading_F)"
   ]
  },
  {
   "cell_type": "markdown",
   "id": "460bc0f0-c0ab-4757-97b9-6f853cb8dc4a",
   "metadata": {},
   "source": [
    "Из теста Колмогорова следует, что reading не распредлено равномерно."
   ]
  },
  {
   "cell_type": "code",
   "execution_count": 74,
   "id": "3ae96683-ddfb-464f-bac3-ff44b4b22a0c",
   "metadata": {
    "tags": []
   },
   "outputs": [
    {
     "data": {
      "text/plain": [
       "<bound method Axes.legend of <Axes: >>"
      ]
     },
     "execution_count": 74,
     "metadata": {},
     "output_type": "execute_result"
    },
    {
     "data": {
      "image/png": "[encoded data removed]",
      "text/plain": [
       "<Figure size 640x480 with 1 Axes>"
      ]
     },
     "metadata": {},
     "output_type": "display_data"
    }
   ],
   "source": [
    "fig, ax = plt.subplots()\n",
    "ax.plot(reading_points, F)\n",
    "ax.plot(reading_points, reading_F)"
   ]
  },
  {
   "cell_type": "code",
   "execution_count": null,
   "id": "082fe479",
   "metadata": {},
   "outputs": [],
   "source": []
  }
 ],
 "metadata": {
  "kernelspec": {
   "display_name": "Python 3 (ipykernel)",
   "language": "python",
   "name": "python3"
  },
  "language_info": {
   "codemirror_mode": {
    "name": "ipython",
    "version": 3
   },
   "file_extension": ".py",
   "mimetype": "text/x-python",
   "name": "python",
   "nbconvert_exporter": "python",
   "pygments_lexer": "ipython3",
   "version": "3.11.1"
  }
 },
 "nbformat": 4,
 "nbformat_minor": 5
}
