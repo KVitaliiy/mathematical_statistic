{
 "cells": [
  {
   "cell_type": "markdown",
   "id": "70f9d271",
   "metadata": {},
   "source": [
    "# Лабораторная работа 3. Статистические гипотезы."
   ]
  },
  {
   "cell_type": "markdown",
   "id": "a2bd0879",
   "metadata": {},
   "source": [
    "## Reading data and creating table of interval variational series (аналогично первой лабораторной работе)"
   ]
  },
  {
   "cell_type": "code",
   "execution_count": 1,
   "id": "a9c0ef55",
   "metadata": {},
   "outputs": [],
   "source": [
    "import numpy as np\n",
    "import pandas as pd\n",
    "import matplotlib.pyplot as plt"
   ]
  },
  {
   "cell_type": "code",
   "execution_count": 2,
   "id": "7be9f255",
   "metadata": {},
   "outputs": [],
   "source": [
    "path_to_data = \"data.xlsx\"\n",
    "df = pd.read_excel(path_to_data)\n",
    "df.head()\n",
    "writing_score = df['writing score'].copy()\n",
    "reading_score = df['reading score'].copy()\n",
    "\n",
    "writing_score.sort_values(inplace=True)\n",
    "writing_score.reset_index(inplace=True, drop=True)\n",
    "reading_score.sort_values(inplace=True)\n",
    "reading_score.reset_index(inplace=True, drop=True)\n",
    "\n",
    "writing_min = writing_score.min()\n",
    "writing_max = writing_score.max()\n",
    "writing_elements_count = writing_score.count()\n",
    "writing_range = writing_max - writing_min \n",
    "writing_intervals_count = 15\n",
    "writing_len_interval = writing_range / writing_intervals_count\n",
    "writing_a = [writing_min + i*writing_len_interval for i in range(writing_intervals_count + 1)]\n",
    "writing_indicates = writing_score.groupby(pd.cut(writing_score, writing_a, include_lowest=True)).count()\n",
    "writing_indicates.name = 'indicates'\n",
    "writing_frequency = writing_indicates / writing_elements_count\n",
    "writing_frequency.name = 'frequency'\n",
    "writing_hist = writing_frequency / writing_len_interval\n",
    "writing_hist.name = \"hist\"\n",
    "writing_points = [(writing_a[i] + writing_a[i + 1]) / 2 for i in range(writing_intervals_count)]\n",
    "writing_F = writing_frequency.cumsum()\n",
    "writing_F.name = 'F'\n",
    "expect_writing_score = writing_points * writing_frequency\n",
    "expect_writing_score.name = \"expect\"\n",
    "expect_square_writing_score = (writing_points * writing_frequency) * writing_points\n",
    "expect_square_writing_score.name = 'expect_square'\n",
    "\n",
    "reading_min = reading_score.min()\n",
    "reading_max = reading_score.max()\n",
    "reading_elements_count = reading_score.count()\n",
    "reading_range = reading_max - reading_min \n",
    "reading_intervals_count = 10\n",
    "reading_len_interval = reading_range / reading_intervals_count\n",
    "reading_a = [reading_min + i*reading_len_interval for i in range(reading_intervals_count + 1)]\n",
    "reading_indicates = reading_score.groupby(pd.cut(reading_score, reading_a, include_lowest=True)).count()\n",
    "reading_indicates.name = 'indicates'\n",
    "reading_frequency = reading_indicates / reading_elements_count\n",
    "reading_frequency.name = 'frequency'\n",
    "reading_hist = reading_frequency / reading_len_interval\n",
    "reading_hist.name = \"hist\"\n",
    "reading_points = [(reading_a[i] + reading_a[i + 1]) / 2 for i in range(reading_intervals_count)]\n",
    "reading_F = reading_frequency.cumsum()\n",
    "reading_F.name = 'F'\n",
    "expect_reading_score = reading_points * reading_frequency\n",
    "expect_reading_score.name = \"expect\"\n",
    "expect_square_reading_score = (reading_points * reading_frequency) * reading_points\n",
    "expect_square_reading_score.name = 'expect_square'"
   ]
  },
  {
   "cell_type": "markdown",
   "id": "f4358d45",
   "metadata": {},
   "source": [
    "## Проверка на однородность reading_score and writing_score с помощью критерия Смирнова"
   ]
  },
  {
   "cell_type": "code",
   "execution_count": 3,
   "id": "804f90a4",
   "metadata": {},
   "outputs": [
    {
     "data": {
      "text/plain": [
       "KstestResult(statistic=0.81, pvalue=4.569224815484179e-66, statistic_location=36, statistic_sign=1)"
      ]
     },
     "execution_count": 3,
     "metadata": {},
     "output_type": "execute_result"
    }
   ],
   "source": [
    "from scipy.stats import ks_2samp\n",
    "ks_2samp(writing_score, reading_score)"
   ]
  },
  {
   "cell_type": "code",
   "execution_count": null,
   "id": "17c95cd6",
   "metadata": {},
   "outputs": [],
   "source": []
  }
 ],
 "metadata": {
  "kernelspec": {
   "display_name": "Python 3 (ipykernel)",
   "language": "python",
   "name": "python3"
  },
  "language_info": {
   "codemirror_mode": {
    "name": "ipython",
    "version": 3
   },
   "file_extension": ".py",
   "mimetype": "text/x-python",
   "name": "python",
   "nbconvert_exporter": "python",
   "pygments_lexer": "ipython3",
   "version": "3.11.1"
  }
 },
 "nbformat": 4,
 "nbformat_minor": 5
}
