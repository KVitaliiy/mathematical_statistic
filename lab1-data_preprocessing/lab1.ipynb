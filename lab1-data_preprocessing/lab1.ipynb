{
 "cells": [
  {
   "cell_type": "markdown",
   "id": "e935ebf4",
   "metadata": {},
   "source": [
    "# Лабораторная работа 1. Предобработка данных."
   ]
  },
  {
   "cell_type": "markdown",
   "id": "66dd4302",
   "metadata": {},
   "source": [
    "## Reading of data and creating variational series"
   ]
  },
  {
   "cell_type": "code",
   "execution_count": 5,
   "id": "6630572e",
   "metadata": {},
   "outputs": [],
   "source": [
    "import numpy as np\n",
    "import pandas as pd\n",
    "import matplotlib.pyplot as plt\n",
    "from math import sqrt"
   ]
  },
  {
   "cell_type": "code",
   "execution_count": 6,
   "id": "c41e730d",
   "metadata": {},
   "outputs": [
    {
     "data": {
      "text/html": [
       "<div>\n",
       "<style scoped>\n",
       "    .dataframe tbody tr th:only-of-type {\n",
       "        vertical-align: middle;\n",
       "    }\n",
       "\n",
       "    .dataframe tbody tr th {\n",
       "        vertical-align: top;\n",
       "    }\n",
       "\n",
       "    .dataframe thead th {\n",
       "        text-align: right;\n",
       "    }\n",
       "</style>\n",
       "<table border=\"1\" class=\"dataframe\">\n",
       "  <thead>\n",
       "    <tr style=\"text-align: right;\">\n",
       "      <th></th>\n",
       "      <th>reading score</th>\n",
       "      <th>writing score</th>\n",
       "    </tr>\n",
       "  </thead>\n",
       "  <tbody>\n",
       "    <tr>\n",
       "      <th>0</th>\n",
       "      <td>96</td>\n",
       "      <td>100</td>\n",
       "    </tr>\n",
       "    <tr>\n",
       "      <th>1</th>\n",
       "      <td>54</td>\n",
       "      <td>49</td>\n",
       "    </tr>\n",
       "    <tr>\n",
       "      <th>2</th>\n",
       "      <td>93</td>\n",
       "      <td>91</td>\n",
       "    </tr>\n",
       "    <tr>\n",
       "      <th>3</th>\n",
       "      <td>61</td>\n",
       "      <td>57</td>\n",
       "    </tr>\n",
       "    <tr>\n",
       "      <th>4</th>\n",
       "      <td>73</td>\n",
       "      <td>70</td>\n",
       "    </tr>\n",
       "  </tbody>\n",
       "</table>\n",
       "</div>"
      ],
      "text/plain": [
       "   reading score  writing score\n",
       "0             96            100\n",
       "1             54             49\n",
       "2             93             91\n",
       "3             61             57\n",
       "4             73             70"
      ]
     },
     "execution_count": 6,
     "metadata": {},
     "output_type": "execute_result"
    }
   ],
   "source": [
    "path_to_data = \"data.xlsx\"\n",
    "df = pd.read_excel(path_to_data)\n",
    "df.head()"
   ]
  },
  {
   "cell_type": "code",
   "execution_count": 7,
   "id": "e23b8bcb",
   "metadata": {},
   "outputs": [
    {
     "data": {
      "text/plain": [
       "0    100\n",
       "1     49\n",
       "2     91\n",
       "3     57\n",
       "4     70\n",
       "Name: writing score, dtype: int64"
      ]
     },
     "execution_count": 7,
     "metadata": {},
     "output_type": "execute_result"
    }
   ],
   "source": [
    "writing_score = df['writing score'].copy()\n",
    "writing_score.head()"
   ]
  },
  {
   "cell_type": "code",
   "execution_count": 8,
   "id": "434dcc38",
   "metadata": {},
   "outputs": [
    {
     "data": {
      "text/plain": [
       "0    96\n",
       "1    54\n",
       "2    93\n",
       "3    61\n",
       "4    73\n",
       "Name: reading score, dtype: int64"
      ]
     },
     "execution_count": 8,
     "metadata": {},
     "output_type": "execute_result"
    }
   ],
   "source": [
    "reading_score = df['reading score'].copy()\n",
    "reading_score.head()"
   ]
  },
  {
   "cell_type": "code",
   "execution_count": 9,
   "id": "155843cc",
   "metadata": {},
   "outputs": [
    {
     "data": {
      "text/plain": [
       "0    21\n",
       "1    28\n",
       "2    31\n",
       "3    32\n",
       "4    35\n",
       "Name: writing score, dtype: int64"
      ]
     },
     "execution_count": 9,
     "metadata": {},
     "output_type": "execute_result"
    }
   ],
   "source": [
    "writing_score.sort_values(inplace=True)\n",
    "writing_score.reset_index(inplace=True, drop=True)\n",
    "writing_score.head()"
   ]
  },
  {
   "cell_type": "code",
   "execution_count": 10,
   "id": "ed29f57d",
   "metadata": {},
   "outputs": [
    {
     "data": {
      "text/plain": [
       "0    25\n",
       "1    31\n",
       "2    35\n",
       "3    35\n",
       "4    37\n",
       "Name: reading score, dtype: int64"
      ]
     },
     "execution_count": 10,
     "metadata": {},
     "output_type": "execute_result"
    }
   ],
   "source": [
    "reading_score.sort_values(inplace=True)\n",
    "reading_score.reset_index(inplace=True, drop=True)\n",
    "reading_score.head()"
   ]
  },
  {
   "cell_type": "markdown",
   "id": "b76b67dd",
   "metadata": {},
   "source": [
    "## Сreating table of interval variational series for wriritng score"
   ]
  },
  {
   "cell_type": "code",
   "execution_count": 11,
   "id": "4ee846d0",
   "metadata": {},
   "outputs": [],
   "source": [
    "writing_min = writing_score.min()\n",
    "writing_max = writing_score.max()\n",
    "writing_elements_count = writing_score.count()\n",
    "writing_range = writing_max - writing_min \n",
    "writing_intervals_count = 15\n",
    "writing_len_interval = writing_range / writing_intervals_count"
   ]
  },
  {
   "cell_type": "code",
   "execution_count": 12,
   "id": "8a196bbe",
   "metadata": {},
   "outputs": [
    {
     "data": {
      "text/plain": [
       "[21.0,\n",
       " 26.266666666666666,\n",
       " 31.53333333333333,\n",
       " 36.8,\n",
       " 42.06666666666666,\n",
       " 47.33333333333333,\n",
       " 52.6,\n",
       " 57.86666666666667,\n",
       " 63.13333333333333,\n",
       " 68.4,\n",
       " 73.66666666666666,\n",
       " 78.93333333333334,\n",
       " 84.2,\n",
       " 89.46666666666667,\n",
       " 94.73333333333333,\n",
       " 100.0]"
      ]
     },
     "execution_count": 12,
     "metadata": {},
     "output_type": "execute_result"
    }
   ],
   "source": [
    "writing_a = [writing_min + i*writing_len_interval for i in range(writing_intervals_count + 1)]\n",
    "#a = pd.interval_range(writing_min, writing_max, len_interval)\n",
    "#a[0] -= 0.0001 # need to substruct a small number to include first value\n",
    "writing_a"
   ]
  },
  {
   "cell_type": "code",
   "execution_count": 13,
   "id": "d08a0135",
   "metadata": {},
   "outputs": [
    {
     "data": {
      "text/plain": [
       "writing score\n",
       "(20.999, 26.267]    0.005\n",
       "(26.267, 31.533]    0.010\n",
       "(31.533, 36.8]      0.010\n",
       "(36.8, 42.067]      0.035\n",
       "(42.067, 47.333]    0.055\n",
       "(47.333, 52.6]      0.085\n",
       "(52.6, 57.867]      0.055\n",
       "(57.867, 63.133]    0.130\n",
       "(63.133, 68.4]      0.130\n",
       "(68.4, 73.667]      0.140\n",
       "(73.667, 78.933]    0.120\n",
       "(78.933, 84.2]      0.080\n",
       "(84.2, 89.467]      0.080\n",
       "(89.467, 94.733]    0.030\n",
       "(94.733, 100.0]     0.035\n",
       "Name: frequency, dtype: float64"
      ]
     },
     "execution_count": 13,
     "metadata": {},
     "output_type": "execute_result"
    }
   ],
   "source": [
    "writing_indicates = writing_score.groupby(pd.cut(writing_score, writing_a, include_lowest=True)).count()\n",
    "writing_indicates.name = 'indicates'\n",
    "writing_frequency = writing_indicates / writing_elements_count\n",
    "writing_frequency.name = 'frequency'\n",
    "writing_frequency"
   ]
  },
  {
   "cell_type": "code",
   "execution_count": 14,
   "id": "6fed6d5e",
   "metadata": {},
   "outputs": [
    {
     "data": {
      "text/plain": [
       "writing score\n",
       "(20.999, 26.267]    0.000949\n",
       "(26.267, 31.533]    0.001899\n",
       "(31.533, 36.8]      0.001899\n",
       "(36.8, 42.067]      0.006646\n",
       "(42.067, 47.333]    0.010443\n",
       "(47.333, 52.6]      0.016139\n",
       "(52.6, 57.867]      0.010443\n",
       "(57.867, 63.133]    0.024684\n",
       "(63.133, 68.4]      0.024684\n",
       "(68.4, 73.667]      0.026582\n",
       "(73.667, 78.933]    0.022785\n",
       "(78.933, 84.2]      0.015190\n",
       "(84.2, 89.467]      0.015190\n",
       "(89.467, 94.733]    0.005696\n",
       "(94.733, 100.0]     0.006646\n",
       "Name: hist, dtype: float64"
      ]
     },
     "execution_count": 14,
     "metadata": {},
     "output_type": "execute_result"
    }
   ],
   "source": [
    "writing_hist = writing_frequency / writing_len_interval\n",
    "writing_hist.name = \"hist\"\n",
    "writing_hist"
   ]
  },
  {
   "cell_type": "code",
   "execution_count": 15,
   "id": "e49ac888",
   "metadata": {},
   "outputs": [
    {
     "data": {
      "text/plain": [
       "[23.633333333333333,\n",
       " 28.9,\n",
       " 34.166666666666664,\n",
       " 39.43333333333333,\n",
       " 44.699999999999996,\n",
       " 49.96666666666667,\n",
       " 55.233333333333334,\n",
       " 60.5,\n",
       " 65.76666666666667,\n",
       " 71.03333333333333,\n",
       " 76.3,\n",
       " 81.56666666666666,\n",
       " 86.83333333333334,\n",
       " 92.1,\n",
       " 97.36666666666667]"
      ]
     },
     "execution_count": 15,
     "metadata": {},
     "output_type": "execute_result"
    }
   ],
   "source": [
    "writing_points = [(writing_a[i] + writing_a[i + 1]) / 2 for i in range(writing_intervals_count)]\n",
    "writing_points"
   ]
  },
  {
   "cell_type": "code",
   "execution_count": 16,
   "id": "019a3420",
   "metadata": {},
   "outputs": [
    {
     "data": {
      "text/plain": [
       "writing score\n",
       "(20.999, 26.267]    0.005\n",
       "(26.267, 31.533]    0.015\n",
       "(31.533, 36.8]      0.025\n",
       "(36.8, 42.067]      0.060\n",
       "(42.067, 47.333]    0.115\n",
       "(47.333, 52.6]      0.200\n",
       "(52.6, 57.867]      0.255\n",
       "(57.867, 63.133]    0.385\n",
       "(63.133, 68.4]      0.515\n",
       "(68.4, 73.667]      0.655\n",
       "(73.667, 78.933]    0.775\n",
       "(78.933, 84.2]      0.855\n",
       "(84.2, 89.467]      0.935\n",
       "(89.467, 94.733]    0.965\n",
       "(94.733, 100.0]     1.000\n",
       "Name: F, dtype: float64"
      ]
     },
     "execution_count": 16,
     "metadata": {},
     "output_type": "execute_result"
    }
   ],
   "source": [
    "writing_F = writing_frequency.cumsum()\n",
    "writing_F.name = 'F'\n",
    "writing_F"
   ]
  },
  {
   "cell_type": "code",
   "execution_count": 17,
   "id": "1ff1571b",
   "metadata": {},
   "outputs": [
    {
     "data": {
      "text/plain": [
       "writing score\n",
       "(20.999, 26.267]    0.118167\n",
       "(26.267, 31.533]    0.289000\n",
       "(31.533, 36.8]      0.341667\n",
       "(36.8, 42.067]      1.380167\n",
       "(42.067, 47.333]    2.458500\n",
       "(47.333, 52.6]      4.247167\n",
       "(52.6, 57.867]      3.037833\n",
       "(57.867, 63.133]    7.865000\n",
       "(63.133, 68.4]      8.549667\n",
       "(68.4, 73.667]      9.944667\n",
       "(73.667, 78.933]    9.156000\n",
       "(78.933, 84.2]      6.525333\n",
       "(84.2, 89.467]      6.946667\n",
       "(89.467, 94.733]    2.763000\n",
       "(94.733, 100.0]     3.407833\n",
       "Name: expect, dtype: float64"
      ]
     },
     "execution_count": 17,
     "metadata": {},
     "output_type": "execute_result"
    }
   ],
   "source": [
    "expect_writing_score = writing_points * writing_frequency\n",
    "expect_writing_score.name = \"expect\"\n",
    "expect_writing_score"
   ]
  },
  {
   "cell_type": "code",
   "execution_count": 18,
   "id": "ca376573",
   "metadata": {},
   "outputs": [
    {
     "data": {
      "text/plain": [
       "writing score\n",
       "(20.999, 26.267]      2.792672\n",
       "(26.267, 31.533]      8.352100\n",
       "(31.533, 36.8]       11.673611\n",
       "(36.8, 42.067]       54.424572\n",
       "(42.067, 47.333]    109.894950\n",
       "(47.333, 52.6]      212.216761\n",
       "(52.6, 57.867]      167.789661\n",
       "(57.867, 63.133]    475.832500\n",
       "(63.133, 68.4]      562.283078\n",
       "(68.4, 73.667]      706.402822\n",
       "(73.667, 78.933]    698.602800\n",
       "(78.933, 84.2]      532.249689\n",
       "(84.2, 89.467]      603.202222\n",
       "(89.467, 94.733]    254.472300\n",
       "(94.733, 100.0]     331.809372\n",
       "Name: expect_square, dtype: float64"
      ]
     },
     "execution_count": 18,
     "metadata": {},
     "output_type": "execute_result"
    }
   ],
   "source": [
    "expect_square_writing_score = (writing_points * writing_frequency) * writing_points\n",
    "expect_square_writing_score.name = 'expect_square'\n",
    "expect_square_writing_score"
   ]
  },
  {
   "cell_type": "markdown",
   "id": "9a472b36",
   "metadata": {},
   "source": [
    "## Сreating table of interval variational series for reading score"
   ]
  },
  {
   "cell_type": "code",
   "execution_count": 19,
   "id": "23109d25",
   "metadata": {},
   "outputs": [
    {
     "data": {
      "text/plain": [
       "100"
      ]
     },
     "execution_count": 19,
     "metadata": {},
     "output_type": "execute_result"
    }
   ],
   "source": [
    "reading_min = reading_score.min()\n",
    "reading_max = reading_score.max()\n",
    "reading_elements_count = reading_score.count()\n",
    "reading_range = reading_max - reading_min \n",
    "reading_intervals_count = 10\n",
    "reading_len_interval = reading_range / reading_intervals_count\n",
    "reading_score.max()"
   ]
  },
  {
   "cell_type": "code",
   "execution_count": 20,
   "id": "92a101c5",
   "metadata": {},
   "outputs": [],
   "source": [
    "reading_a = [reading_min + i*reading_len_interval for i in range(reading_intervals_count + 1)]"
   ]
  },
  {
   "cell_type": "code",
   "execution_count": 21,
   "id": "4c989159",
   "metadata": {},
   "outputs": [],
   "source": [
    "reading_indicates = reading_score.groupby(pd.cut(reading_score, reading_a, include_lowest=True)).count()\n",
    "reading_indicates.name = 'indicates'\n",
    "reading_frequency = reading_indicates / reading_elements_count\n",
    "reading_frequency.name = 'frequency'"
   ]
  },
  {
   "cell_type": "code",
   "execution_count": 22,
   "id": "1a5a6630",
   "metadata": {},
   "outputs": [],
   "source": [
    "reading_hist = reading_frequency / reading_len_interval\n",
    "reading_hist.name = \"hist\""
   ]
  },
  {
   "cell_type": "code",
   "execution_count": 23,
   "id": "db4f2bed",
   "metadata": {},
   "outputs": [],
   "source": [
    "reading_points = [(reading_a[i] + reading_a[i + 1]) / 2 for i in range(reading_intervals_count)]"
   ]
  },
  {
   "cell_type": "code",
   "execution_count": 24,
   "id": "358a5e6b",
   "metadata": {},
   "outputs": [],
   "source": [
    "reading_F = reading_frequency.cumsum()\n",
    "reading_F.name = 'F'"
   ]
  },
  {
   "cell_type": "code",
   "execution_count": 25,
   "id": "7ef3a7be",
   "metadata": {},
   "outputs": [],
   "source": [
    "expect_reading_score = reading_points * reading_frequency\n",
    "expect_reading_score.name = \"expect\""
   ]
  },
  {
   "cell_type": "code",
   "execution_count": 26,
   "id": "05a690e5",
   "metadata": {},
   "outputs": [],
   "source": [
    "expect_square_reading_score = (reading_points * reading_frequency) * reading_points\n",
    "expect_square_reading_score.name = 'expect_square'"
   ]
  },
  {
   "cell_type": "markdown",
   "id": "5564ab1b",
   "metadata": {},
   "source": [
    "## Visualization for writing score"
   ]
  },
  {
   "cell_type": "code",
   "execution_count": 27,
   "id": "f93c3656",
   "metadata": {},
   "outputs": [
    {
     "data": {
      "text/plain": [
       "15"
      ]
     },
     "execution_count": 27,
     "metadata": {},
     "output_type": "execute_result"
    },
    {
     "data": {
      "image/png": "[encoded data removed]",
      "text/plain": [
       "<Figure size 640x480 with 1 Axes>"
      ]
     },
     "metadata": {},
     "output_type": "display_data"
    }
   ],
   "source": [
    "fig, ax = plt.subplots()\n",
    "ax.bar(writing_a[:writing_intervals_count], writing_hist.values, width=writing_len_interval-0.4, align='edge')\n",
    "ax.set_title('Histogram')\n",
    "len(writing_a[:writing_intervals_count])"
   ]
  },
  {
   "cell_type": "code",
   "execution_count": 28,
   "id": "e610ee6b",
   "metadata": {},
   "outputs": [
    {
     "data": {
      "text/plain": [
       "Text(0.5, 1.0, 'Frequency polygon')"
      ]
     },
     "execution_count": 28,
     "metadata": {},
     "output_type": "execute_result"
    },
    {
     "data": {
      "image/png": "[encoded data removed]",
      "text/plain": [
       "<Figure size 640x480 with 1 Axes>"
      ]
     },
     "metadata": {},
     "output_type": "display_data"
    }
   ],
   "source": [
    "fig, ax = plt.subplots()\n",
    "ax.plot(writing_points, writing_frequency)\n",
    "ax.set_title('Frequency polygon')"
   ]
  },
  {
   "cell_type": "code",
   "execution_count": 29,
   "id": "c3bdc5d2",
   "metadata": {},
   "outputs": [
    {
     "data": {
      "text/plain": [
       "Text(0.5, 1.0, 'Sample distribution function')"
      ]
     },
     "execution_count": 29,
     "metadata": {},
     "output_type": "execute_result"
    },
    {
     "data": {
      "image/png": "[encoded data removed]",
      "text/plain": [
       "<Figure size 640x480 with 1 Axes>"
      ]
     },
     "metadata": {},
     "output_type": "display_data"
    }
   ],
   "source": [
    "fig, ax = plt.subplots()\n",
    "ax.plot(writing_points, writing_F.values)\n",
    "ax.set_title('Sample distribution function')"
   ]
  },
  {
   "cell_type": "markdown",
   "id": "4533a3bd",
   "metadata": {},
   "source": [
    "## Visualization for reading score"
   ]
  },
  {
   "cell_type": "code",
   "execution_count": 30,
   "id": "bb4bfc50",
   "metadata": {},
   "outputs": [
    {
     "data": {
      "text/plain": [
       "10"
      ]
     },
     "execution_count": 30,
     "metadata": {},
     "output_type": "execute_result"
    },
    {
     "data": {
      "image/png": "[encoded data removed]",
      "text/plain": [
       "<Figure size 640x480 with 1 Axes>"
      ]
     },
     "metadata": {},
     "output_type": "display_data"
    }
   ],
   "source": [
    "fig, ax = plt.subplots()\n",
    "ax.bar(reading_a[:reading_intervals_count], reading_hist.values, width=reading_len_interval-0.4, align='edge')\n",
    "ax.set_title('Histogram')\n",
    "len(writing_a[:reading_intervals_count])"
   ]
  },
  {
   "cell_type": "code",
   "execution_count": 31,
   "id": "e888283b",
   "metadata": {},
   "outputs": [
    {
     "data": {
      "text/plain": [
       "Text(0.5, 1.0, 'Frequency polygon')"
      ]
     },
     "execution_count": 31,
     "metadata": {},
     "output_type": "execute_result"
    },
    {
     "data": {
      "image/png": "[encoded data removed]",
      "text/plain": [
       "<Figure size 640x480 with 1 Axes>"
      ]
     },
     "metadata": {},
     "output_type": "display_data"
    }
   ],
   "source": [
    "fig, ax = plt.subplots()\n",
    "ax.plot(reading_points, reading_frequency)\n",
    "ax.set_title('Frequency polygon')"
   ]
  },
  {
   "cell_type": "code",
   "execution_count": 32,
   "id": "3cc9b81d",
   "metadata": {},
   "outputs": [
    {
     "data": {
      "text/plain": [
       "Text(0.5, 1.0, 'Sample distribution function')"
      ]
     },
     "execution_count": 32,
     "metadata": {},
     "output_type": "execute_result"
    },
    {
     "data": {
      "image/png": "[encoded data removed]",
      "text/plain": [
       "<Figure size 640x480 with 1 Axes>"
      ]
     },
     "metadata": {},
     "output_type": "display_data"
    }
   ],
   "source": [
    "fig, ax = plt.subplots()\n",
    "ax.plot(reading_points, reading_F.values)\n",
    "ax.set_title('Sample distribution function')"
   ]
  },
  {
   "cell_type": "markdown",
   "id": "1e671f9a",
   "metadata": {},
   "source": [
    "## Calculation of sample statistic for writing score"
   ]
  },
  {
   "cell_type": "markdown",
   "id": "7ea818dd",
   "metadata": {},
   "source": [
    "### Expectation"
   ]
  },
  {
   "cell_type": "code",
   "execution_count": 33,
   "id": "2068d4ae",
   "metadata": {},
   "outputs": [
    {
     "data": {
      "text/plain": [
       "67.03066666666666"
      ]
     },
     "execution_count": 33,
     "metadata": {},
     "output_type": "execute_result"
    }
   ],
   "source": [
    "writing_sample_expect = sum(expect_writing_score)\n",
    "writing_sample_expect"
   ]
  },
  {
   "cell_type": "code",
   "execution_count": 34,
   "id": "2164325a",
   "metadata": {},
   "outputs": [
    {
     "data": {
      "text/plain": [
       "67.075"
      ]
     },
     "execution_count": 34,
     "metadata": {},
     "output_type": "execute_result"
    }
   ],
   "source": [
    "inner_writing_sample_expect = writing_score.mean()\n",
    "inner_writing_sample_expect"
   ]
  },
  {
   "cell_type": "markdown",
   "id": "94abbfe5",
   "metadata": {},
   "source": [
    "### Variance"
   ]
  },
  {
   "cell_type": "code",
   "execution_count": 35,
   "id": "1a2f1aa4",
   "metadata": {},
   "outputs": [
    {
     "data": {
      "text/plain": [
       "238.88883733333387"
      ]
     },
     "execution_count": 35,
     "metadata": {},
     "output_type": "execute_result"
    }
   ],
   "source": [
    "writing_sample_var = sum(expect_square_writing_score) - (sum(expect_writing_score)) ** 2\n",
    "writing_sample_var"
   ]
  },
  {
   "cell_type": "code",
   "execution_count": 36,
   "id": "cc703fef",
   "metadata": {},
   "outputs": [
    {
     "data": {
      "text/plain": [
       "241.969375"
      ]
     },
     "execution_count": 36,
     "metadata": {},
     "output_type": "execute_result"
    }
   ],
   "source": [
    "inner_writing_sample_var = (writing_elements_count-1)/writing_elements_count*writing_score.var()\n",
    "inner_writing_sample_var "
   ]
  },
  {
   "cell_type": "markdown",
   "id": "1e9671e8",
   "metadata": {},
   "source": [
    "### Unbiased variance "
   ]
  },
  {
   "cell_type": "code",
   "execution_count": 37,
   "id": "bfdfcffe",
   "metadata": {},
   "outputs": [
    {
     "data": {
      "text/plain": [
       "240.08928375209433"
      ]
     },
     "execution_count": 37,
     "metadata": {},
     "output_type": "execute_result"
    }
   ],
   "source": [
    "writing_sample_var_unb = writing_elements_count/(writing_elements_count-1)*writing_sample_var\n",
    "writing_sample_var_unb"
   ]
  },
  {
   "cell_type": "code",
   "execution_count": 38,
   "id": "9b0933d9",
   "metadata": {},
   "outputs": [
    {
     "data": {
      "text/plain": [
       "243.1853015075377"
      ]
     },
     "execution_count": 38,
     "metadata": {},
     "output_type": "execute_result"
    }
   ],
   "source": [
    "inner_writing_sample_var_unb = writing_score.var()\n",
    "inner_writing_sample_var_unb"
   ]
  },
  {
   "cell_type": "markdown",
   "id": "50302299",
   "metadata": {},
   "source": [
    "### Mode"
   ]
  },
  {
   "cell_type": "code",
   "execution_count": 39,
   "id": "d1c246a8",
   "metadata": {},
   "outputs": [
    {
     "data": {
      "text/plain": [
       "71.03333333333333"
      ]
     },
     "execution_count": 39,
     "metadata": {},
     "output_type": "execute_result"
    }
   ],
   "source": [
    "writing_mode = writing_points[np.argmax(writing_frequency)]\n",
    "writing_mode"
   ]
  },
  {
   "cell_type": "code",
   "execution_count": 40,
   "id": "fdb69770",
   "metadata": {},
   "outputs": [
    {
     "data": {
      "text/plain": [
       "69"
      ]
     },
     "execution_count": 40,
     "metadata": {},
     "output_type": "execute_result"
    }
   ],
   "source": [
    "inner_writing_mode = writing_score.mode().values[0]\n",
    "inner_writing_mode"
   ]
  },
  {
   "cell_type": "markdown",
   "id": "946afb29",
   "metadata": {},
   "source": [
    "### Median"
   ]
  },
  {
   "cell_type": "code",
   "execution_count": 41,
   "id": "daf39b01",
   "metadata": {},
   "outputs": [
    {
     "data": {
      "text/plain": [
       "60.5"
      ]
     },
     "execution_count": 41,
     "metadata": {},
     "output_type": "execute_result"
    }
   ],
   "source": [
    "if len(writing_points) % 2 == 0:\n",
    "    writing_median = (writing_points[len(writing_points) // 2] + writing_points[len(writing_points) // 2 - 1]) / 2\n",
    "else:\n",
    "    writing_median = (writing_points[len(writing_points) // 2])\n",
    "writing_median"
   ]
  },
  {
   "cell_type": "code",
   "execution_count": 42,
   "id": "a808e4cd",
   "metadata": {},
   "outputs": [
    {
     "data": {
      "text/plain": [
       "68.0"
      ]
     },
     "execution_count": 42,
     "metadata": {},
     "output_type": "execute_result"
    }
   ],
   "source": [
    "inner_writing_median = writing_score.median()\n",
    "inner_writing_median"
   ]
  },
  {
   "cell_type": "markdown",
   "id": "3ab2e91f",
   "metadata": {},
   "source": [
    "### Standart deviation"
   ]
  },
  {
   "cell_type": "code",
   "execution_count": 43,
   "id": "0bf9926a",
   "metadata": {},
   "outputs": [
    {
     "data": {
      "text/plain": [
       "15.49481473758542"
      ]
     },
     "execution_count": 43,
     "metadata": {},
     "output_type": "execute_result"
    }
   ],
   "source": [
    "writing_std = sqrt(writing_sample_var_unb)\n",
    "writing_std"
   ]
  },
  {
   "cell_type": "code",
   "execution_count": 44,
   "id": "9c798ada",
   "metadata": {},
   "outputs": [
    {
     "data": {
      "text/plain": [
       "15.59439968410255"
      ]
     },
     "execution_count": 44,
     "metadata": {},
     "output_type": "execute_result"
    }
   ],
   "source": [
    "inner_writing_std = writing_score.std()\n",
    "inner_writing_std"
   ]
  },
  {
   "cell_type": "markdown",
   "id": "878ab6df",
   "metadata": {},
   "source": [
    "## Calculation of sample statistic for readin score"
   ]
  },
  {
   "cell_type": "markdown",
   "id": "b92ee7df",
   "metadata": {},
   "source": [
    "### Expectation"
   ]
  },
  {
   "cell_type": "code",
   "execution_count": 42,
   "id": "de19f8a5",
   "metadata": {},
   "outputs": [
    {
     "data": {
      "text/plain": [
       "67.71249999999999"
      ]
     },
     "execution_count": 42,
     "metadata": {},
     "output_type": "execute_result"
    }
   ],
   "source": [
    "reading_sample_expect = sum(expect_reading_score)\n",
    "reading_sample_expect"
   ]
  },
  {
   "cell_type": "code",
   "execution_count": 43,
   "id": "c16dfaaa",
   "metadata": {},
   "outputs": [
    {
     "data": {
      "text/plain": [
       "67.96"
      ]
     },
     "execution_count": 43,
     "metadata": {},
     "output_type": "execute_result"
    }
   ],
   "source": [
    "inner_reading_sample_expect = reading_score.mean()\n",
    "inner_reading_sample_expect"
   ]
  },
  {
   "cell_type": "markdown",
   "id": "e4a1140f",
   "metadata": {},
   "source": [
    "### Variance"
   ]
  },
  {
   "cell_type": "code",
   "execution_count": 44,
   "id": "298c4d36",
   "metadata": {},
   "outputs": [
    {
     "data": {
      "text/plain": [
       "233.8298437500016"
      ]
     },
     "execution_count": 44,
     "metadata": {},
     "output_type": "execute_result"
    }
   ],
   "source": [
    "reading_sample_var = sum(expect_square_reading_score) - (sum(expect_reading_score)) ** 2\n",
    "reading_sample_var"
   ]
  },
  {
   "cell_type": "code",
   "execution_count": 45,
   "id": "33631ee1",
   "metadata": {},
   "outputs": [
    {
     "data": {
      "text/plain": [
       "232.2384"
      ]
     },
     "execution_count": 45,
     "metadata": {},
     "output_type": "execute_result"
    }
   ],
   "source": [
    "inner_reading_sample_var = (reading_elements_count-1)/reading_elements_count*reading_score.var()\n",
    "inner_reading_sample_var "
   ]
  },
  {
   "cell_type": "markdown",
   "id": "1bcc3b43",
   "metadata": {},
   "source": [
    "### Unbiased variance "
   ]
  },
  {
   "cell_type": "code",
   "execution_count": 46,
   "id": "505a5135",
   "metadata": {},
   "outputs": [
    {
     "data": {
      "text/plain": [
       "235.00486809045384"
      ]
     },
     "execution_count": 46,
     "metadata": {},
     "output_type": "execute_result"
    }
   ],
   "source": [
    "reading_sample_var_unb = reading_elements_count/(reading_elements_count-1)*reading_sample_var\n",
    "reading_sample_var_unb"
   ]
  },
  {
   "cell_type": "code",
   "execution_count": 47,
   "id": "224b6223",
   "metadata": {},
   "outputs": [
    {
     "data": {
      "text/plain": [
       "233.4054271356784"
      ]
     },
     "execution_count": 47,
     "metadata": {},
     "output_type": "execute_result"
    }
   ],
   "source": [
    "inner_reading_sample_var_unb = reading_score.var()\n",
    "inner_reading_sample_var_unb"
   ]
  },
  {
   "cell_type": "markdown",
   "id": "e54438ac",
   "metadata": {},
   "source": [
    "### Mode"
   ]
  },
  {
   "cell_type": "code",
   "execution_count": 48,
   "id": "780f2fed",
   "metadata": {},
   "outputs": [
    {
     "data": {
      "text/plain": [
       "66.25"
      ]
     },
     "execution_count": 48,
     "metadata": {},
     "output_type": "execute_result"
    }
   ],
   "source": [
    "reading_mode = reading_points[np.argmax(reading_frequency)]\n",
    "reading_mode"
   ]
  },
  {
   "cell_type": "code",
   "execution_count": 49,
   "id": "530dbbf5",
   "metadata": {},
   "outputs": [
    {
     "data": {
      "text/plain": [
       "70"
      ]
     },
     "execution_count": 49,
     "metadata": {},
     "output_type": "execute_result"
    }
   ],
   "source": [
    "inner_reading_mode = reading_score.mode().values[0]\n",
    "inner_reading_mode"
   ]
  },
  {
   "cell_type": "markdown",
   "id": "3badd943",
   "metadata": {},
   "source": [
    "### Median"
   ]
  },
  {
   "cell_type": "code",
   "execution_count": 50,
   "id": "51934671",
   "metadata": {},
   "outputs": [
    {
     "data": {
      "text/plain": [
       "62.5"
      ]
     },
     "execution_count": 50,
     "metadata": {},
     "output_type": "execute_result"
    }
   ],
   "source": [
    "if len(reading_points) % 2 == 0:\n",
    "    reading_median = (reading_points[len(reading_points) // 2] + reading_points[len(reading_points) // 2 - 1]) / 2\n",
    "else:\n",
    "    reading_median = (reading_points[len(reading_points) // 2])\n",
    "reading_median"
   ]
  },
  {
   "cell_type": "code",
   "execution_count": 51,
   "id": "c2eb0859",
   "metadata": {},
   "outputs": [
    {
     "data": {
      "text/plain": [
       "70.0"
      ]
     },
     "execution_count": 51,
     "metadata": {},
     "output_type": "execute_result"
    }
   ],
   "source": [
    "inner_reading_median = reading_score.median()\n",
    "inner_reading_median"
   ]
  },
  {
   "cell_type": "markdown",
   "id": "603a7ec1",
   "metadata": {},
   "source": [
    "### Standart deviation"
   ]
  },
  {
   "cell_type": "code",
   "execution_count": 52,
   "id": "90bb3f80",
   "metadata": {},
   "outputs": [
    {
     "data": {
      "text/plain": [
       "15.32986849553687"
      ]
     },
     "execution_count": 52,
     "metadata": {},
     "output_type": "execute_result"
    }
   ],
   "source": [
    "from math import sqrt\n",
    "reading_std = sqrt(reading_sample_var_unb)\n",
    "reading_std"
   ]
  },
  {
   "cell_type": "code",
   "execution_count": 53,
   "id": "0a2552dc",
   "metadata": {},
   "outputs": [
    {
     "data": {
      "text/plain": [
       "15.277611957883941"
      ]
     },
     "execution_count": 53,
     "metadata": {},
     "output_type": "execute_result"
    }
   ],
   "source": [
    "inner_reading_std = reading_score.std()\n",
    "inner_reading_std"
   ]
  },
  {
   "cell_type": "markdown",
   "id": "25e51322",
   "metadata": {},
   "source": [
    "## Conclusion"
   ]
  },
  {
   "cell_type": "markdown",
   "id": "58c0fceb",
   "metadata": {},
   "source": [
    "1) Раcпределения writing_score и reading_score схожи с нормальным распределением.\n",
    "2) Различие выборочных статистик, расчитанных на основе интервальных рядов и на основе встроенных в python методов, уменьшается при увеличении количества интервалов.\n",
    "3) При количестве интервалов равном 10 в reading_score самое большое различие из всех статистик у медианы, разница составляет 12%."
   ]
  }
 ],
 "metadata": {
  "kernelspec": {
   "display_name": "Python 3 (ipykernel)",
   "language": "python",
   "name": "python3"
  },
  "language_info": {
   "codemirror_mode": {
    "name": "ipython",
    "version": 3
   },
   "file_extension": ".py",
   "mimetype": "text/x-python",
   "name": "python",
   "nbconvert_exporter": "python",
   "pygments_lexer": "ipython3",
   "version": "3.11.1"
  }
 },
 "nbformat": 4,
 "nbformat_minor": 5
}
