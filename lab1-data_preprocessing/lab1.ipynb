{
 "cells": [
  {
   "cell_type": "markdown",
   "id": "e935ebf4",
   "metadata": {},
   "source": [
    "# Лабораторная работа 1. Предобработка данных."
   ]
  },
  {
   "cell_type": "markdown",
   "id": "66dd4302",
   "metadata": {},
   "source": [
    "## Reading of data and creating variational series"
   ]
  },
  {
   "cell_type": "code",
   "execution_count": 1,
   "id": "6630572e",
   "metadata": {},
   "outputs": [],
   "source": [
    "import numpy as np\n",
    "import pandas as pd"
   ]
  },
  {
   "cell_type": "code",
   "execution_count": 7,
   "id": "c41e730d",
   "metadata": {},
   "outputs": [
    {
     "data": {
      "text/html": [
       "<div>\n",
       "<style scoped>\n",
       "    .dataframe tbody tr th:only-of-type {\n",
       "        vertical-align: middle;\n",
       "    }\n",
       "\n",
       "    .dataframe tbody tr th {\n",
       "        vertical-align: top;\n",
       "    }\n",
       "\n",
       "    .dataframe thead th {\n",
       "        text-align: right;\n",
       "    }\n",
       "</style>\n",
       "<table border=\"1\" class=\"dataframe\">\n",
       "  <thead>\n",
       "    <tr style=\"text-align: right;\">\n",
       "      <th></th>\n",
       "      <th>reading score</th>\n",
       "      <th>writing score</th>\n",
       "    </tr>\n",
       "  </thead>\n",
       "  <tbody>\n",
       "    <tr>\n",
       "      <th>0</th>\n",
       "      <td>96</td>\n",
       "      <td>100</td>\n",
       "    </tr>\n",
       "    <tr>\n",
       "      <th>1</th>\n",
       "      <td>54</td>\n",
       "      <td>49</td>\n",
       "    </tr>\n",
       "    <tr>\n",
       "      <th>2</th>\n",
       "      <td>93</td>\n",
       "      <td>91</td>\n",
       "    </tr>\n",
       "    <tr>\n",
       "      <th>3</th>\n",
       "      <td>61</td>\n",
       "      <td>57</td>\n",
       "    </tr>\n",
       "    <tr>\n",
       "      <th>4</th>\n",
       "      <td>73</td>\n",
       "      <td>70</td>\n",
       "    </tr>\n",
       "  </tbody>\n",
       "</table>\n",
       "</div>"
      ],
      "text/plain": [
       "   reading score  writing score\n",
       "0             96            100\n",
       "1             54             49\n",
       "2             93             91\n",
       "3             61             57\n",
       "4             73             70"
      ]
     },
     "execution_count": 7,
     "metadata": {},
     "output_type": "execute_result"
    }
   ],
   "source": [
    "path_to_data = \"data.xlsx\"\n",
    "df = pd.read_excel(path_to_data)\n",
    "df.head()"
   ]
  },
  {
   "cell_type": "code",
   "execution_count": 17,
   "id": "e23b8bcb",
   "metadata": {},
   "outputs": [
    {
     "data": {
      "text/plain": [
       "0    100\n",
       "1     49\n",
       "2     91\n",
       "3     57\n",
       "4     70\n",
       "Name: writing score, dtype: int64"
      ]
     },
     "execution_count": 17,
     "metadata": {},
     "output_type": "execute_result"
    }
   ],
   "source": [
    "writing_score = df['writing score'].copy()\n",
    "writing_score.head()"
   ]
  },
  {
   "cell_type": "code",
   "execution_count": 18,
   "id": "434dcc38",
   "metadata": {},
   "outputs": [
    {
     "data": {
      "text/plain": [
       "0    96\n",
       "1    54\n",
       "2    93\n",
       "3    61\n",
       "4    73\n",
       "Name: reading score, dtype: int64"
      ]
     },
     "execution_count": 18,
     "metadata": {},
     "output_type": "execute_result"
    }
   ],
   "source": [
    "reading_score = df['reading score'].copy()\n",
    "reading_score.head()"
   ]
  },
  {
   "cell_type": "code",
   "execution_count": 30,
   "id": "155843cc",
   "metadata": {},
   "outputs": [
    {
     "data": {
      "text/plain": [
       "0    21\n",
       "1    28\n",
       "2    31\n",
       "3    32\n",
       "4    35\n",
       "Name: writing score, dtype: int64"
      ]
     },
     "execution_count": 30,
     "metadata": {},
     "output_type": "execute_result"
    }
   ],
   "source": [
    "writing_score.sort_values(inplace=True)\n",
    "writing_score.reset_index(inplace=True, drop=True)\n",
    "writing_score.head()"
   ]
  },
  {
   "cell_type": "code",
   "execution_count": 31,
   "id": "ed29f57d",
   "metadata": {},
   "outputs": [
    {
     "data": {
      "text/plain": [
       "0    25\n",
       "1    31\n",
       "2    35\n",
       "3    35\n",
       "4    37\n",
       "Name: reading score, dtype: int64"
      ]
     },
     "execution_count": 31,
     "metadata": {},
     "output_type": "execute_result"
    }
   ],
   "source": [
    "reading_score.sort_values(inplace=True)\n",
    "reading_score.reset_index(inplace=True, drop=True)\n",
    "reading_score.head()"
   ]
  },
  {
   "cell_type": "markdown",
   "id": "b76b67dd",
   "metadata": {},
   "source": [
    "## Сreating table of interval variational series for wriritng_score"
   ]
  },
  {
   "cell_type": "code",
   "execution_count": 86,
   "id": "4ee846d0",
   "metadata": {},
   "outputs": [
    {
     "data": {
      "text/plain": [
       "21"
      ]
     },
     "execution_count": 86,
     "metadata": {},
     "output_type": "execute_result"
    }
   ],
   "source": [
    "writing_min = writing_score.min()\n",
    "writing_max = writing_score.max()\n",
    "writing_elements_count = writing_score.count()\n",
    "writing_range = writing_max - writing_min \n",
    "intervals_count = 12\n",
    "len_interval = writing_range / intervals_count"
   ]
  },
  {
   "cell_type": "code",
   "execution_count": 82,
   "id": "8a196bbe",
   "metadata": {},
   "outputs": [],
   "source": [
    "a = [writing_min + i*len_interval for i in range(intervals_count + 1)]\n",
    "a[0] -= 0.0001 # need to substruct a small number to include first value"
   ]
  },
  {
   "cell_type": "code",
   "execution_count": 83,
   "id": "3df095d7",
   "metadata": {},
   "outputs": [
    {
     "data": {
      "text/plain": [
       "[20.9999,\n",
       " 27.583333333333332,\n",
       " 34.166666666666664,\n",
       " 40.75,\n",
       " 47.33333333333333,\n",
       " 53.916666666666664,\n",
       " 60.5,\n",
       " 67.08333333333333,\n",
       " 73.66666666666666,\n",
       " 80.25,\n",
       " 86.83333333333333,\n",
       " 93.41666666666666,\n",
       " 100.0]"
      ]
     },
     "execution_count": 83,
     "metadata": {},
     "output_type": "execute_result"
    }
   ],
   "source": [
    "a"
   ]
  },
  {
   "cell_type": "code",
   "execution_count": 91,
   "id": "d08a0135",
   "metadata": {},
   "outputs": [
    {
     "data": {
      "text/plain": [
       "writing score\n",
       "(21.0, 27.583]      0.005\n",
       "(27.583, 34.167]    0.015\n",
       "(34.167, 40.75]     0.035\n",
       "(40.75, 47.333]     0.060\n",
       "(47.333, 53.917]    0.095\n",
       "(53.917, 60.5]      0.095\n",
       "(60.5, 67.083]      0.185\n",
       "(67.083, 73.667]    0.165\n",
       "(73.667, 80.25]     0.145\n",
       "(80.25, 86.833]     0.090\n",
       "(86.833, 93.417]    0.065\n",
       "(93.417, 100.0]     0.045\n",
       "Name: writing score, dtype: float64"
      ]
     },
     "execution_count": 91,
     "metadata": {},
     "output_type": "execute_result"
    }
   ],
   "source": [
    "indicates = writing_score.groupby(pd.cut(writing_score, a)).count()\n",
    "frequency = indicates / writing_elements_count\n",
    "frequency"
   ]
  },
  {
   "cell_type": "code",
   "execution_count": 96,
   "id": "6fed6d5e",
   "metadata": {},
   "outputs": [
    {
     "data": {
      "text/plain": [
       "writing score\n",
       "(21.0, 27.583]      0.000759\n",
       "(27.583, 34.167]    0.002278\n",
       "(34.167, 40.75]     0.005316\n",
       "(40.75, 47.333]     0.009114\n",
       "(47.333, 53.917]    0.014430\n",
       "(53.917, 60.5]      0.014430\n",
       "(60.5, 67.083]      0.028101\n",
       "(67.083, 73.667]    0.025063\n",
       "(73.667, 80.25]     0.022025\n",
       "(80.25, 86.833]     0.013671\n",
       "(86.833, 93.417]    0.009873\n",
       "(93.417, 100.0]     0.006835\n",
       "Name: writing score, dtype: float64"
      ]
     },
     "execution_count": 96,
     "metadata": {},
     "output_type": "execute_result"
    }
   ],
   "source": [
    "hist = frequency / len_interval\n",
    "hist"
   ]
  },
  {
   "cell_type": "code",
   "execution_count": 106,
   "id": "e49ac888",
   "metadata": {},
   "outputs": [
    {
     "data": {
      "text/plain": [
       "[24.291616666666666,\n",
       " 30.875,\n",
       " 37.45833333333333,\n",
       " 44.041666666666664,\n",
       " 50.625,\n",
       " 57.20833333333333,\n",
       " 63.791666666666664,\n",
       " 70.375,\n",
       " 76.95833333333333,\n",
       " 83.54166666666666,\n",
       " 90.125,\n",
       " 96.70833333333333]"
      ]
     },
     "execution_count": 106,
     "metadata": {},
     "output_type": "execute_result"
    }
   ],
   "source": [
    "points = [(a[i] + a[i + 1]) / 2 for i in range(intervals_count)]\n",
    "points"
   ]
  },
  {
   "cell_type": "code",
   "execution_count": 108,
   "id": "019a3420",
   "metadata": {},
   "outputs": [
    {
     "data": {
      "text/plain": [
       "writing score\n",
       "(21.0, 27.583]      0.005\n",
       "(27.583, 34.167]    0.020\n",
       "(34.167, 40.75]     0.055\n",
       "(40.75, 47.333]     0.115\n",
       "(47.333, 53.917]    0.210\n",
       "(53.917, 60.5]      0.305\n",
       "(60.5, 67.083]      0.490\n",
       "(67.083, 73.667]    0.655\n",
       "(73.667, 80.25]     0.800\n",
       "(80.25, 86.833]     0.890\n",
       "(86.833, 93.417]    0.955\n",
       "(93.417, 100.0]     1.000\n",
       "Name: writing score, dtype: float64"
      ]
     },
     "execution_count": 108,
     "metadata": {},
     "output_type": "execute_result"
    }
   ],
   "source": [
    "F = frequency.cumsum()\n",
    "F"
   ]
  },
  {
   "cell_type": "code",
   "execution_count": 110,
   "id": "1ff1571b",
   "metadata": {},
   "outputs": [
    {
     "data": {
      "text/plain": [
       "writing score\n",
       "(21.0, 27.583]       0.121458\n",
       "(27.583, 34.167]     0.463125\n",
       "(34.167, 40.75]      1.311042\n",
       "(40.75, 47.333]      2.642500\n",
       "(47.333, 53.917]     4.809375\n",
       "(53.917, 60.5]       5.434792\n",
       "(60.5, 67.083]      11.801458\n",
       "(67.083, 73.667]    11.611875\n",
       "(73.667, 80.25]     11.158958\n",
       "(80.25, 86.833]      7.518750\n",
       "(86.833, 93.417]     5.858125\n",
       "(93.417, 100.0]      4.351875\n",
       "Name: writing score, dtype: float64"
      ]
     },
     "execution_count": 110,
     "metadata": {},
     "output_type": "execute_result"
    }
   ],
   "source": [
    "expect_writing_score = points * frequency\n",
    "expect_writing_score"
   ]
  },
  {
   "cell_type": "code",
   "execution_count": 117,
   "id": "ca376573",
   "metadata": {},
   "outputs": [
    {
     "data": {
      "text/plain": [
       "writing score\n",
       "(21.0, 27.583]        2.950413\n",
       "(27.583, 34.167]     14.298984\n",
       "(34.167, 40.75]      49.109436\n",
       "(40.75, 47.333]     116.380104\n",
       "(47.333, 53.917]    243.474609\n",
       "(53.917, 60.5]      310.915373\n",
       "(60.5, 67.083]      752.834696\n",
       "(67.083, 73.667]    817.185703\n",
       "(73.667, 80.25]     858.774835\n",
       "(80.25, 86.833]     628.128906\n",
       "(86.833, 93.417]    527.963516\n",
       "(93.417, 100.0]     420.862578\n",
       "Name: writing score, dtype: float64"
      ]
     },
     "execution_count": 117,
     "metadata": {},
     "output_type": "execute_result"
    }
   ],
   "source": [
    "expect_square_writing_score = (points * frequency) * points\n",
    "expect_square_writing_score"
   ]
  },
  {
   "cell_type": "markdown",
   "id": "9a472b36",
   "metadata": {},
   "source": [
    "## Сreating table of interval variational series for reading_score"
   ]
  },
  {
   "cell_type": "code",
   "execution_count": 118,
   "id": "23109d25",
   "metadata": {},
   "outputs": [],
   "source": [
    "reading_min = reading_score.min()\n",
    "reading_max = reading_score.max()\n",
    "reading_elements_count = reading_score.count()\n",
    "reading_range = reading_max - reading_min \n",
    "intervals_count = 12\n",
    "len_interval = reading_range / intervals_count"
   ]
  },
  {
   "cell_type": "code",
   "execution_count": 119,
   "id": "92a101c5",
   "metadata": {},
   "outputs": [],
   "source": [
    "a = [reading_min + i*len_interval for i in range(intervals_count + 1)]\n",
    "a[0] -= 0.0001 # need to substruct a small number to include first value"
   ]
  },
  {
   "cell_type": "code",
   "execution_count": 120,
   "id": "4c989159",
   "metadata": {},
   "outputs": [],
   "source": [
    "indicates = reading_score.groupby(pd.cut(reading_score, a)).count()\n",
    "frequency = indicates / reading_elements_count"
   ]
  },
  {
   "cell_type": "code",
   "execution_count": 121,
   "id": "1a5a6630",
   "metadata": {},
   "outputs": [],
   "source": [
    "hist = frequency / len_interval"
   ]
  },
  {
   "cell_type": "code",
   "execution_count": 122,
   "id": "db4f2bed",
   "metadata": {},
   "outputs": [],
   "source": [
    "points = [(a[i] + a[i + 1]) / 2 for i in range(intervals_count)]"
   ]
  },
  {
   "cell_type": "code",
   "execution_count": 123,
   "id": "358a5e6b",
   "metadata": {},
   "outputs": [],
   "source": [
    "F = frequency.cumsum()"
   ]
  },
  {
   "cell_type": "code",
   "execution_count": 124,
   "id": "7ef3a7be",
   "metadata": {},
   "outputs": [],
   "source": [
    "expect_writing_score = points * frequency"
   ]
  },
  {
   "cell_type": "code",
   "execution_count": 125,
   "id": "05a690e5",
   "metadata": {},
   "outputs": [],
   "source": [
    "expect_square_writing_score = (points * frequency) * points"
   ]
  },
  {
   "cell_type": "markdown",
   "id": "5564ab1b",
   "metadata": {},
   "source": [
    "## Visualization for writing score"
   ]
  },
  {
   "cell_type": "code",
   "execution_count": null,
   "id": "f1e9c85c",
   "metadata": {},
   "outputs": [],
   "source": []
  }
 ],
 "metadata": {
  "kernelspec": {
   "display_name": "Python 3 (ipykernel)",
   "language": "python",
   "name": "python3"
  },
  "language_info": {
   "codemirror_mode": {
    "name": "ipython",
    "version": 3
   },
   "file_extension": ".py",
   "mimetype": "text/x-python",
   "name": "python",
   "nbconvert_exporter": "python",
   "pygments_lexer": "ipython3",
   "version": "3.9.7"
  }
 },
 "nbformat": 4,
 "nbformat_minor": 5
}
