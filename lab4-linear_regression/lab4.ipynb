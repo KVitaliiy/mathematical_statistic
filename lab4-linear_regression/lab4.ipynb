{
 "cells": [
  {
   "cell_type": "markdown",
   "id": "916ed253",
   "metadata": {},
   "source": [
    "# Лабораторная работа 4. Модель линейной регрессии."
   ]
  },
  {
   "cell_type": "markdown",
   "id": "796931a1",
   "metadata": {},
   "source": [
    "## Reading data and plot scatter"
   ]
  },
  {
   "cell_type": "code",
   "execution_count": 1,
   "id": "ed67500a",
   "metadata": {},
   "outputs": [],
   "source": [
    "import numpy as np\n",
    "import pandas as pd\n",
    "import matplotlib.pyplot as plt"
   ]
  },
  {
   "cell_type": "code",
   "execution_count": 2,
   "id": "36a6f638",
   "metadata": {},
   "outputs": [
    {
     "data": {
      "text/html": [
       "<div>\n",
       "<style scoped>\n",
       "    .dataframe tbody tr th:only-of-type {\n",
       "        vertical-align: middle;\n",
       "    }\n",
       "\n",
       "    .dataframe tbody tr th {\n",
       "        vertical-align: top;\n",
       "    }\n",
       "\n",
       "    .dataframe thead th {\n",
       "        text-align: right;\n",
       "    }\n",
       "</style>\n",
       "<table border=\"1\" class=\"dataframe\">\n",
       "  <thead>\n",
       "    <tr style=\"text-align: right;\">\n",
       "      <th></th>\n",
       "      <th>Height</th>\n",
       "      <th>Weight</th>\n",
       "      <th>h^2</th>\n",
       "      <th>w^2</th>\n",
       "      <th>h*w</th>\n",
       "    </tr>\n",
       "  </thead>\n",
       "  <tbody>\n",
       "    <tr>\n",
       "      <th>0</th>\n",
       "      <td>65.78331</td>\n",
       "      <td>112.9925</td>\n",
       "      <td>4327.443875</td>\n",
       "      <td>12767.305056</td>\n",
       "      <td>7433.020655</td>\n",
       "    </tr>\n",
       "    <tr>\n",
       "      <th>1</th>\n",
       "      <td>71.51521</td>\n",
       "      <td>136.4873</td>\n",
       "      <td>5114.425261</td>\n",
       "      <td>18628.783061</td>\n",
       "      <td>9760.917922</td>\n",
       "    </tr>\n",
       "    <tr>\n",
       "      <th>2</th>\n",
       "      <td>69.39874</td>\n",
       "      <td>153.0269</td>\n",
       "      <td>4816.185114</td>\n",
       "      <td>23417.232124</td>\n",
       "      <td>10619.874046</td>\n",
       "    </tr>\n",
       "    <tr>\n",
       "      <th>3</th>\n",
       "      <td>68.21660</td>\n",
       "      <td>142.3354</td>\n",
       "      <td>4653.504516</td>\n",
       "      <td>20259.366093</td>\n",
       "      <td>9709.637048</td>\n",
       "    </tr>\n",
       "    <tr>\n",
       "      <th>4</th>\n",
       "      <td>67.78781</td>\n",
       "      <td>144.2971</td>\n",
       "      <td>4595.187185</td>\n",
       "      <td>20821.653068</td>\n",
       "      <td>9781.584398</td>\n",
       "    </tr>\n",
       "    <tr>\n",
       "      <th>...</th>\n",
       "      <td>...</td>\n",
       "      <td>...</td>\n",
       "      <td>...</td>\n",
       "      <td>...</td>\n",
       "      <td>...</td>\n",
       "    </tr>\n",
       "    <tr>\n",
       "      <th>195</th>\n",
       "      <td>65.79799</td>\n",
       "      <td>120.8431</td>\n",
       "      <td>4329.375488</td>\n",
       "      <td>14603.054818</td>\n",
       "      <td>7951.233085</td>\n",
       "    </tr>\n",
       "    <tr>\n",
       "      <th>196</th>\n",
       "      <td>66.10558</td>\n",
       "      <td>115.7813</td>\n",
       "      <td>4369.947707</td>\n",
       "      <td>13405.309430</td>\n",
       "      <td>7653.789990</td>\n",
       "    </tr>\n",
       "    <tr>\n",
       "      <th>197</th>\n",
       "      <td>68.23987</td>\n",
       "      <td>128.3019</td>\n",
       "      <td>4656.679858</td>\n",
       "      <td>16461.377544</td>\n",
       "      <td>8755.304977</td>\n",
       "    </tr>\n",
       "    <tr>\n",
       "      <th>198</th>\n",
       "      <td>68.02403</td>\n",
       "      <td>127.4718</td>\n",
       "      <td>4627.268657</td>\n",
       "      <td>16249.059795</td>\n",
       "      <td>8671.145547</td>\n",
       "    </tr>\n",
       "    <tr>\n",
       "      <th>199</th>\n",
       "      <td>71.39044</td>\n",
       "      <td>127.8761</td>\n",
       "      <td>5096.594923</td>\n",
       "      <td>16352.296951</td>\n",
       "      <td>9129.131044</td>\n",
       "    </tr>\n",
       "  </tbody>\n",
       "</table>\n",
       "<p>200 rows × 5 columns</p>\n",
       "</div>"
      ],
      "text/plain": [
       "       Height    Weight          h^2           w^2           h*w\n",
       "0    65.78331  112.9925  4327.443875  12767.305056   7433.020655\n",
       "1    71.51521  136.4873  5114.425261  18628.783061   9760.917922\n",
       "2    69.39874  153.0269  4816.185114  23417.232124  10619.874046\n",
       "3    68.21660  142.3354  4653.504516  20259.366093   9709.637048\n",
       "4    67.78781  144.2971  4595.187185  20821.653068   9781.584398\n",
       "..        ...       ...          ...           ...           ...\n",
       "195  65.79799  120.8431  4329.375488  14603.054818   7951.233085\n",
       "196  66.10558  115.7813  4369.947707  13405.309430   7653.789990\n",
       "197  68.23987  128.3019  4656.679858  16461.377544   8755.304977\n",
       "198  68.02403  127.4718  4627.268657  16249.059795   8671.145547\n",
       "199  71.39044  127.8761  5096.594923  16352.296951   9129.131044\n",
       "\n",
       "[200 rows x 5 columns]"
      ]
     },
     "execution_count": 2,
     "metadata": {},
     "output_type": "execute_result"
    }
   ],
   "source": [
    "data = pd.read_excel('data.xlsx')\n",
    "data.head()\n",
    "data['h^2'] = data['Height']**2\n",
    "data['w^2'] = data['Weight']**2\n",
    "data['h*w'] = np.multiply(data['Height'], data['Weight'])\n",
    "data"
   ]
  },
  {
   "cell_type": "code",
   "execution_count": 3,
   "id": "16b52a8f",
   "metadata": {},
   "outputs": [
    {
     "data": {
      "image/png": "[encoded data removed]",
      "text/plain": [
       "<Figure size 432x288 with 1 Axes>"
      ]
     },
     "metadata": {
      "needs_background": "light"
     },
     "output_type": "display_data"
    }
   ],
   "source": [
    "pd.DataFrame(data).plot.scatter(x='Height', y ='Weight', c='blue', s=10)\n",
    "plt.xlabel('Height')\n",
    "plt.ylabel('Weight')\n",
    "plt.show()"
   ]
  },
  {
   "cell_type": "markdown",
   "id": "9f0a733f",
   "metadata": {},
   "source": [
    "Кореляционное облако указывает на линейную зависимость параметров"
   ]
  },
  {
   "cell_type": "markdown",
   "id": "58a114b1",
   "metadata": {},
   "source": [
    "## Creating intervals  correlation table"
   ]
  },
  {
   "cell_type": "code",
   "execution_count": 4,
   "id": "e9b6fe45",
   "metadata": {},
   "outputs": [
    {
     "data": {
      "text/html": [
       "<div>\n",
       "<style scoped>\n",
       "    .dataframe tbody tr th:only-of-type {\n",
       "        vertical-align: middle;\n",
       "    }\n",
       "\n",
       "    .dataframe tbody tr th {\n",
       "        vertical-align: top;\n",
       "    }\n",
       "\n",
       "    .dataframe thead th {\n",
       "        text-align: right;\n",
       "    }\n",
       "</style>\n",
       "<table border=\"1\" class=\"dataframe\">\n",
       "  <thead>\n",
       "    <tr style=\"text-align: right;\">\n",
       "      <th></th>\n",
       "      <th>Height</th>\n",
       "      <th>Weight</th>\n",
       "      <th>h^2</th>\n",
       "      <th>w^2</th>\n",
       "      <th>h*w</th>\n",
       "      <th>intervals_height</th>\n",
       "      <th>intervals_weight</th>\n",
       "    </tr>\n",
       "  </thead>\n",
       "  <tbody>\n",
       "    <tr>\n",
       "      <th>0</th>\n",
       "      <td>65.78331</td>\n",
       "      <td>112.9925</td>\n",
       "      <td>4327.443875</td>\n",
       "      <td>12767.305056</td>\n",
       "      <td>7433.020655</td>\n",
       "      <td>(65.521, 66.568]</td>\n",
       "      <td>(110.113, 116.218]</td>\n",
       "    </tr>\n",
       "    <tr>\n",
       "      <th>1</th>\n",
       "      <td>71.51521</td>\n",
       "      <td>136.4873</td>\n",
       "      <td>5114.425261</td>\n",
       "      <td>18628.783061</td>\n",
       "      <td>9760.917922</td>\n",
       "      <td>(70.758, 71.806]</td>\n",
       "      <td>(134.534, 140.64]</td>\n",
       "    </tr>\n",
       "    <tr>\n",
       "      <th>2</th>\n",
       "      <td>69.39874</td>\n",
       "      <td>153.0269</td>\n",
       "      <td>4816.185114</td>\n",
       "      <td>23417.232124</td>\n",
       "      <td>10619.874046</td>\n",
       "      <td>(68.663, 69.711]</td>\n",
       "      <td>(152.851, 158.956]</td>\n",
       "    </tr>\n",
       "    <tr>\n",
       "      <th>3</th>\n",
       "      <td>68.21660</td>\n",
       "      <td>142.3354</td>\n",
       "      <td>4653.504516</td>\n",
       "      <td>20259.366093</td>\n",
       "      <td>9709.637048</td>\n",
       "      <td>(67.616, 68.663]</td>\n",
       "      <td>(140.64, 146.745]</td>\n",
       "    </tr>\n",
       "    <tr>\n",
       "      <th>4</th>\n",
       "      <td>67.78781</td>\n",
       "      <td>144.2971</td>\n",
       "      <td>4595.187185</td>\n",
       "      <td>20821.653068</td>\n",
       "      <td>9781.584398</td>\n",
       "      <td>(67.616, 68.663]</td>\n",
       "      <td>(140.64, 146.745]</td>\n",
       "    </tr>\n",
       "    <tr>\n",
       "      <th>...</th>\n",
       "      <td>...</td>\n",
       "      <td>...</td>\n",
       "      <td>...</td>\n",
       "      <td>...</td>\n",
       "      <td>...</td>\n",
       "      <td>...</td>\n",
       "      <td>...</td>\n",
       "    </tr>\n",
       "    <tr>\n",
       "      <th>195</th>\n",
       "      <td>65.79799</td>\n",
       "      <td>120.8431</td>\n",
       "      <td>4329.375488</td>\n",
       "      <td>14603.054818</td>\n",
       "      <td>7951.233085</td>\n",
       "      <td>(65.521, 66.568]</td>\n",
       "      <td>(116.218, 122.324]</td>\n",
       "    </tr>\n",
       "    <tr>\n",
       "      <th>196</th>\n",
       "      <td>66.10558</td>\n",
       "      <td>115.7813</td>\n",
       "      <td>4369.947707</td>\n",
       "      <td>13405.309430</td>\n",
       "      <td>7653.789990</td>\n",
       "      <td>(65.521, 66.568]</td>\n",
       "      <td>(110.113, 116.218]</td>\n",
       "    </tr>\n",
       "    <tr>\n",
       "      <th>197</th>\n",
       "      <td>68.23987</td>\n",
       "      <td>128.3019</td>\n",
       "      <td>4656.679858</td>\n",
       "      <td>16461.377544</td>\n",
       "      <td>8755.304977</td>\n",
       "      <td>(67.616, 68.663]</td>\n",
       "      <td>(122.324, 128.429]</td>\n",
       "    </tr>\n",
       "    <tr>\n",
       "      <th>198</th>\n",
       "      <td>68.02403</td>\n",
       "      <td>127.4718</td>\n",
       "      <td>4627.268657</td>\n",
       "      <td>16249.059795</td>\n",
       "      <td>8671.145547</td>\n",
       "      <td>(67.616, 68.663]</td>\n",
       "      <td>(122.324, 128.429]</td>\n",
       "    </tr>\n",
       "    <tr>\n",
       "      <th>199</th>\n",
       "      <td>71.39044</td>\n",
       "      <td>127.8761</td>\n",
       "      <td>5096.594923</td>\n",
       "      <td>16352.296951</td>\n",
       "      <td>9129.131044</td>\n",
       "      <td>(70.758, 71.806]</td>\n",
       "      <td>(122.324, 128.429]</td>\n",
       "    </tr>\n",
       "  </tbody>\n",
       "</table>\n",
       "<p>200 rows × 7 columns</p>\n",
       "</div>"
      ],
      "text/plain": [
       "       Height    Weight          h^2           w^2           h*w  \\\n",
       "0    65.78331  112.9925  4327.443875  12767.305056   7433.020655   \n",
       "1    71.51521  136.4873  5114.425261  18628.783061   9760.917922   \n",
       "2    69.39874  153.0269  4816.185114  23417.232124  10619.874046   \n",
       "3    68.21660  142.3354  4653.504516  20259.366093   9709.637048   \n",
       "4    67.78781  144.2971  4595.187185  20821.653068   9781.584398   \n",
       "..        ...       ...          ...           ...           ...   \n",
       "195  65.79799  120.8431  4329.375488  14603.054818   7951.233085   \n",
       "196  66.10558  115.7813  4369.947707  13405.309430   7653.789990   \n",
       "197  68.23987  128.3019  4656.679858  16461.377544   8755.304977   \n",
       "198  68.02403  127.4718  4627.268657  16249.059795   8671.145547   \n",
       "199  71.39044  127.8761  5096.594923  16352.296951   9129.131044   \n",
       "\n",
       "     intervals_height    intervals_weight  \n",
       "0    (65.521, 66.568]  (110.113, 116.218]  \n",
       "1    (70.758, 71.806]   (134.534, 140.64]  \n",
       "2    (68.663, 69.711]  (152.851, 158.956]  \n",
       "3    (67.616, 68.663]   (140.64, 146.745]  \n",
       "4    (67.616, 68.663]   (140.64, 146.745]  \n",
       "..                ...                 ...  \n",
       "195  (65.521, 66.568]  (116.218, 122.324]  \n",
       "196  (65.521, 66.568]  (110.113, 116.218]  \n",
       "197  (67.616, 68.663]  (122.324, 128.429]  \n",
       "198  (67.616, 68.663]  (122.324, 128.429]  \n",
       "199  (70.758, 71.806]  (122.324, 128.429]  \n",
       "\n",
       "[200 rows x 7 columns]"
      ]
     },
     "execution_count": 4,
     "metadata": {},
     "output_type": "execute_result"
    }
   ],
   "source": [
    "h = data['Height']\n",
    "w = data['Weight']\n",
    "\n",
    "df = data.copy()\n",
    "inter_h = pd.cut(h, bins=10, include_lowest=True)\n",
    "inter_w = pd.cut(w, bins=10, include_lowest=True)\n",
    "df['intervals_height'] = inter_h\n",
    "df['intervals_weight'] = inter_w\n",
    "df"
   ]
  },
  {
   "cell_type": "code",
   "execution_count": 5,
   "id": "19b7d75a",
   "metadata": {},
   "outputs": [
    {
     "data": {
      "text/html": [
       "<div>\n",
       "<style scoped>\n",
       "    .dataframe tbody tr th:only-of-type {\n",
       "        vertical-align: middle;\n",
       "    }\n",
       "\n",
       "    .dataframe tbody tr th {\n",
       "        vertical-align: top;\n",
       "    }\n",
       "\n",
       "    .dataframe thead th {\n",
       "        text-align: right;\n",
       "    }\n",
       "</style>\n",
       "<table border=\"1\" class=\"dataframe\">\n",
       "  <thead>\n",
       "    <tr style=\"text-align: right;\">\n",
       "      <th>intervals_weight</th>\n",
       "      <th>(97.83999999999999, 104.007]</th>\n",
       "      <th>(104.007, 110.113]</th>\n",
       "      <th>(110.113, 116.218]</th>\n",
       "      <th>(116.218, 122.324]</th>\n",
       "      <th>(122.324, 128.429]</th>\n",
       "      <th>(128.429, 134.534]</th>\n",
       "      <th>(134.534, 140.64]</th>\n",
       "      <th>(140.64, 146.745]</th>\n",
       "      <th>(146.745, 152.851]</th>\n",
       "      <th>(152.851, 158.956]</th>\n",
       "    </tr>\n",
       "    <tr>\n",
       "      <th>intervals_height</th>\n",
       "      <th></th>\n",
       "      <th></th>\n",
       "      <th></th>\n",
       "      <th></th>\n",
       "      <th></th>\n",
       "      <th></th>\n",
       "      <th></th>\n",
       "      <th></th>\n",
       "      <th></th>\n",
       "      <th></th>\n",
       "    </tr>\n",
       "  </thead>\n",
       "  <tbody>\n",
       "    <tr>\n",
       "      <th>(63.414, 64.473]</th>\n",
       "      <td>2</td>\n",
       "      <td>3</td>\n",
       "      <td>0</td>\n",
       "      <td>0</td>\n",
       "      <td>3</td>\n",
       "      <td>0</td>\n",
       "      <td>0</td>\n",
       "      <td>0</td>\n",
       "      <td>0</td>\n",
       "      <td>0</td>\n",
       "    </tr>\n",
       "    <tr>\n",
       "      <th>(64.473, 65.521]</th>\n",
       "      <td>1</td>\n",
       "      <td>1</td>\n",
       "      <td>5</td>\n",
       "      <td>1</td>\n",
       "      <td>3</td>\n",
       "      <td>2</td>\n",
       "      <td>0</td>\n",
       "      <td>0</td>\n",
       "      <td>0</td>\n",
       "      <td>0</td>\n",
       "    </tr>\n",
       "    <tr>\n",
       "      <th>(65.521, 66.568]</th>\n",
       "      <td>1</td>\n",
       "      <td>3</td>\n",
       "      <td>5</td>\n",
       "      <td>11</td>\n",
       "      <td>5</td>\n",
       "      <td>4</td>\n",
       "      <td>1</td>\n",
       "      <td>1</td>\n",
       "      <td>0</td>\n",
       "      <td>0</td>\n",
       "    </tr>\n",
       "    <tr>\n",
       "      <th>(66.568, 67.616]</th>\n",
       "      <td>1</td>\n",
       "      <td>4</td>\n",
       "      <td>0</td>\n",
       "      <td>4</td>\n",
       "      <td>10</td>\n",
       "      <td>6</td>\n",
       "      <td>2</td>\n",
       "      <td>5</td>\n",
       "      <td>0</td>\n",
       "      <td>0</td>\n",
       "    </tr>\n",
       "    <tr>\n",
       "      <th>(67.616, 68.663]</th>\n",
       "      <td>1</td>\n",
       "      <td>2</td>\n",
       "      <td>5</td>\n",
       "      <td>6</td>\n",
       "      <td>13</td>\n",
       "      <td>10</td>\n",
       "      <td>5</td>\n",
       "      <td>5</td>\n",
       "      <td>0</td>\n",
       "      <td>0</td>\n",
       "    </tr>\n",
       "    <tr>\n",
       "      <th>(68.663, 69.711]</th>\n",
       "      <td>1</td>\n",
       "      <td>0</td>\n",
       "      <td>4</td>\n",
       "      <td>0</td>\n",
       "      <td>6</td>\n",
       "      <td>5</td>\n",
       "      <td>10</td>\n",
       "      <td>3</td>\n",
       "      <td>0</td>\n",
       "      <td>1</td>\n",
       "    </tr>\n",
       "    <tr>\n",
       "      <th>(69.711, 70.758]</th>\n",
       "      <td>0</td>\n",
       "      <td>0</td>\n",
       "      <td>1</td>\n",
       "      <td>2</td>\n",
       "      <td>2</td>\n",
       "      <td>6</td>\n",
       "      <td>4</td>\n",
       "      <td>4</td>\n",
       "      <td>2</td>\n",
       "      <td>2</td>\n",
       "    </tr>\n",
       "    <tr>\n",
       "      <th>(70.758, 71.806]</th>\n",
       "      <td>0</td>\n",
       "      <td>0</td>\n",
       "      <td>0</td>\n",
       "      <td>0</td>\n",
       "      <td>2</td>\n",
       "      <td>2</td>\n",
       "      <td>6</td>\n",
       "      <td>1</td>\n",
       "      <td>0</td>\n",
       "      <td>1</td>\n",
       "    </tr>\n",
       "    <tr>\n",
       "      <th>(71.806, 72.854]</th>\n",
       "      <td>0</td>\n",
       "      <td>0</td>\n",
       "      <td>0</td>\n",
       "      <td>0</td>\n",
       "      <td>0</td>\n",
       "      <td>0</td>\n",
       "      <td>2</td>\n",
       "      <td>0</td>\n",
       "      <td>0</td>\n",
       "      <td>0</td>\n",
       "    </tr>\n",
       "    <tr>\n",
       "      <th>(72.854, 73.901]</th>\n",
       "      <td>0</td>\n",
       "      <td>0</td>\n",
       "      <td>0</td>\n",
       "      <td>0</td>\n",
       "      <td>0</td>\n",
       "      <td>0</td>\n",
       "      <td>1</td>\n",
       "      <td>0</td>\n",
       "      <td>1</td>\n",
       "      <td>0</td>\n",
       "    </tr>\n",
       "  </tbody>\n",
       "</table>\n",
       "</div>"
      ],
      "text/plain": [
       "intervals_weight  (97.83999999999999, 104.007]  (104.007, 110.113]  \\\n",
       "intervals_height                                                     \n",
       "(63.414, 64.473]                             2                   3   \n",
       "(64.473, 65.521]                             1                   1   \n",
       "(65.521, 66.568]                             1                   3   \n",
       "(66.568, 67.616]                             1                   4   \n",
       "(67.616, 68.663]                             1                   2   \n",
       "(68.663, 69.711]                             1                   0   \n",
       "(69.711, 70.758]                             0                   0   \n",
       "(70.758, 71.806]                             0                   0   \n",
       "(71.806, 72.854]                             0                   0   \n",
       "(72.854, 73.901]                             0                   0   \n",
       "\n",
       "intervals_weight  (110.113, 116.218]  (116.218, 122.324]  (122.324, 128.429]  \\\n",
       "intervals_height                                                               \n",
       "(63.414, 64.473]                   0                   0                   3   \n",
       "(64.473, 65.521]                   5                   1                   3   \n",
       "(65.521, 66.568]                   5                  11                   5   \n",
       "(66.568, 67.616]                   0                   4                  10   \n",
       "(67.616, 68.663]                   5                   6                  13   \n",
       "(68.663, 69.711]                   4                   0                   6   \n",
       "(69.711, 70.758]                   1                   2                   2   \n",
       "(70.758, 71.806]                   0                   0                   2   \n",
       "(71.806, 72.854]                   0                   0                   0   \n",
       "(72.854, 73.901]                   0                   0                   0   \n",
       "\n",
       "intervals_weight  (128.429, 134.534]  (134.534, 140.64]  (140.64, 146.745]  \\\n",
       "intervals_height                                                             \n",
       "(63.414, 64.473]                   0                  0                  0   \n",
       "(64.473, 65.521]                   2                  0                  0   \n",
       "(65.521, 66.568]                   4                  1                  1   \n",
       "(66.568, 67.616]                   6                  2                  5   \n",
       "(67.616, 68.663]                  10                  5                  5   \n",
       "(68.663, 69.711]                   5                 10                  3   \n",
       "(69.711, 70.758]                   6                  4                  4   \n",
       "(70.758, 71.806]                   2                  6                  1   \n",
       "(71.806, 72.854]                   0                  2                  0   \n",
       "(72.854, 73.901]                   0                  1                  0   \n",
       "\n",
       "intervals_weight  (146.745, 152.851]  (152.851, 158.956]  \n",
       "intervals_height                                          \n",
       "(63.414, 64.473]                   0                   0  \n",
       "(64.473, 65.521]                   0                   0  \n",
       "(65.521, 66.568]                   0                   0  \n",
       "(66.568, 67.616]                   0                   0  \n",
       "(67.616, 68.663]                   0                   0  \n",
       "(68.663, 69.711]                   0                   1  \n",
       "(69.711, 70.758]                   2                   2  \n",
       "(70.758, 71.806]                   0                   1  \n",
       "(71.806, 72.854]                   0                   0  \n",
       "(72.854, 73.901]                   1                   0  "
      ]
     },
     "execution_count": 5,
     "metadata": {},
     "output_type": "execute_result"
    }
   ],
   "source": [
    "corr_table = pd.crosstab(\n",
    "    index=df['intervals_height'],\n",
    "    columns=df['intervals_weight'],\n",
    "    rownames=['intervals_height'],\n",
    "    colnames=['intervals_weight'])\n",
    "corr_table"
   ]
  },
  {
   "cell_type": "code",
   "execution_count": 6,
   "id": "9e4b7ea5",
   "metadata": {},
   "outputs": [],
   "source": [
    "mid_h = [inter.mid for inter in corr_table.index]\n",
    "mid_w = [inter.mid for inter in corr_table.columns]"
   ]
  },
  {
   "cell_type": "markdown",
   "id": "caf5338a",
   "metadata": {},
   "source": [
    "## Conditional expectation"
   ]
  },
  {
   "cell_type": "code",
   "execution_count": 7,
   "id": "11646351",
   "metadata": {},
   "outputs": [
    {
     "data": {
      "text/html": [
       "<div>\n",
       "<style scoped>\n",
       "    .dataframe tbody tr th:only-of-type {\n",
       "        vertical-align: middle;\n",
       "    }\n",
       "\n",
       "    .dataframe tbody tr th {\n",
       "        vertical-align: top;\n",
       "    }\n",
       "\n",
       "    .dataframe thead th {\n",
       "        text-align: right;\n",
       "    }\n",
       "</style>\n",
       "<table border=\"1\" class=\"dataframe\">\n",
       "  <thead>\n",
       "    <tr style=\"text-align: right;\">\n",
       "      <th></th>\n",
       "      <th>exp_w</th>\n",
       "      <th>ponits_h</th>\n",
       "    </tr>\n",
       "    <tr>\n",
       "      <th>intervals_height</th>\n",
       "      <th></th>\n",
       "      <th></th>\n",
       "    </tr>\n",
       "  </thead>\n",
       "  <tbody>\n",
       "    <tr>\n",
       "      <th>(63.414, 64.473]</th>\n",
       "      <td>112.394563</td>\n",
       "      <td>63.9435</td>\n",
       "    </tr>\n",
       "    <tr>\n",
       "      <th>(64.473, 65.521]</th>\n",
       "      <td>117.859577</td>\n",
       "      <td>64.9970</td>\n",
       "    </tr>\n",
       "    <tr>\n",
       "      <th>(65.521, 66.568]</th>\n",
       "      <td>120.451613</td>\n",
       "      <td>66.0445</td>\n",
       "    </tr>\n",
       "    <tr>\n",
       "      <th>(66.568, 67.616]</th>\n",
       "      <td>126.329313</td>\n",
       "      <td>67.0920</td>\n",
       "    </tr>\n",
       "    <tr>\n",
       "      <th>(67.616, 68.663]</th>\n",
       "      <td>126.544766</td>\n",
       "      <td>68.1395</td>\n",
       "    </tr>\n",
       "    <tr>\n",
       "      <th>(68.663, 69.711]</th>\n",
       "      <td>130.870100</td>\n",
       "      <td>69.1870</td>\n",
       "    </tr>\n",
       "    <tr>\n",
       "      <th>(69.711, 70.758]</th>\n",
       "      <td>135.994370</td>\n",
       "      <td>70.2345</td>\n",
       "    </tr>\n",
       "    <tr>\n",
       "      <th>(70.758, 71.806]</th>\n",
       "      <td>136.569500</td>\n",
       "      <td>71.2820</td>\n",
       "    </tr>\n",
       "    <tr>\n",
       "      <th>(71.806, 72.854]</th>\n",
       "      <td>137.587000</td>\n",
       "      <td>72.3300</td>\n",
       "    </tr>\n",
       "    <tr>\n",
       "      <th>(72.854, 73.901]</th>\n",
       "      <td>143.692500</td>\n",
       "      <td>73.3775</td>\n",
       "    </tr>\n",
       "  </tbody>\n",
       "</table>\n",
       "</div>"
      ],
      "text/plain": [
       "                       exp_w  ponits_h\n",
       "intervals_height                      \n",
       "(63.414, 64.473]  112.394563   63.9435\n",
       "(64.473, 65.521]  117.859577   64.9970\n",
       "(65.521, 66.568]  120.451613   66.0445\n",
       "(66.568, 67.616]  126.329313   67.0920\n",
       "(67.616, 68.663]  126.544766   68.1395\n",
       "(68.663, 69.711]  130.870100   69.1870\n",
       "(69.711, 70.758]  135.994370   70.2345\n",
       "(70.758, 71.806]  136.569500   71.2820\n",
       "(71.806, 72.854]  137.587000   72.3300\n",
       "(72.854, 73.901]  143.692500   73.3775"
      ]
     },
     "execution_count": 7,
     "metadata": {},
     "output_type": "execute_result"
    }
   ],
   "source": [
    "cond_exp_w = pd.DataFrame(index=corr_table.index)\n",
    "exp_w = []\n",
    "for inter_h in corr_table.index:\n",
    "    expw = 0\n",
    "    count = 0\n",
    "    for inter_w in corr_table.columns:\n",
    "        expw += (corr_table.loc[inter_h][inter_w]*inter_w.mid)\n",
    "        count += corr_table.loc[inter_h][inter_w]\n",
    "    exp_w.append(expw/count)\n",
    "exp_w\n",
    "cond_exp_w['exp_w'] = exp_w\n",
    "cond_exp_w['ponits_h'] = mid_h\n",
    "cond_exp_w"
   ]
  },
  {
   "cell_type": "code",
   "execution_count": 8,
   "id": "daa856d8",
   "metadata": {},
   "outputs": [
    {
     "data": {
      "text/html": [
       "<div>\n",
       "<style scoped>\n",
       "    .dataframe tbody tr th:only-of-type {\n",
       "        vertical-align: middle;\n",
       "    }\n",
       "\n",
       "    .dataframe tbody tr th {\n",
       "        vertical-align: top;\n",
       "    }\n",
       "\n",
       "    .dataframe thead th {\n",
       "        text-align: right;\n",
       "    }\n",
       "</style>\n",
       "<table border=\"1\" class=\"dataframe\">\n",
       "  <thead>\n",
       "    <tr style=\"text-align: right;\">\n",
       "      <th></th>\n",
       "      <th>exp_h</th>\n",
       "      <th>ponits_w</th>\n",
       "    </tr>\n",
       "    <tr>\n",
       "      <th>intervals_weight</th>\n",
       "      <th></th>\n",
       "      <th></th>\n",
       "    </tr>\n",
       "  </thead>\n",
       "  <tbody>\n",
       "    <tr>\n",
       "      <th>(97.83999999999999, 104.007]</th>\n",
       "      <td>66.192429</td>\n",
       "      <td>100.9235</td>\n",
       "    </tr>\n",
       "    <tr>\n",
       "      <th>(104.007, 110.113]</th>\n",
       "      <td>66.123692</td>\n",
       "      <td>107.0600</td>\n",
       "    </tr>\n",
       "    <tr>\n",
       "      <th>(110.113, 116.218]</th>\n",
       "      <td>67.144375</td>\n",
       "      <td>113.1655</td>\n",
       "    </tr>\n",
       "    <tr>\n",
       "      <th>(116.218, 122.324]</th>\n",
       "      <td>67.048354</td>\n",
       "      <td>119.2710</td>\n",
       "    </tr>\n",
       "    <tr>\n",
       "      <th>(122.324, 128.429]</th>\n",
       "      <td>67.543920</td>\n",
       "      <td>125.3765</td>\n",
       "    </tr>\n",
       "    <tr>\n",
       "      <th>(128.429, 134.534]</th>\n",
       "      <td>68.229286</td>\n",
       "      <td>131.4815</td>\n",
       "    </tr>\n",
       "    <tr>\n",
       "      <th>(134.534, 140.64]</th>\n",
       "      <td>69.660113</td>\n",
       "      <td>137.5870</td>\n",
       "    </tr>\n",
       "    <tr>\n",
       "      <th>(140.64, 146.745]</th>\n",
       "      <td>68.525421</td>\n",
       "      <td>143.6925</td>\n",
       "    </tr>\n",
       "    <tr>\n",
       "      <th>(146.745, 152.851]</th>\n",
       "      <td>71.282167</td>\n",
       "      <td>149.7980</td>\n",
       "    </tr>\n",
       "    <tr>\n",
       "      <th>(152.851, 158.956]</th>\n",
       "      <td>70.234500</td>\n",
       "      <td>155.9035</td>\n",
       "    </tr>\n",
       "  </tbody>\n",
       "</table>\n",
       "</div>"
      ],
      "text/plain": [
       "                                  exp_h  ponits_w\n",
       "intervals_weight                                 \n",
       "(97.83999999999999, 104.007]  66.192429  100.9235\n",
       "(104.007, 110.113]            66.123692  107.0600\n",
       "(110.113, 116.218]            67.144375  113.1655\n",
       "(116.218, 122.324]            67.048354  119.2710\n",
       "(122.324, 128.429]            67.543920  125.3765\n",
       "(128.429, 134.534]            68.229286  131.4815\n",
       "(134.534, 140.64]             69.660113  137.5870\n",
       "(140.64, 146.745]             68.525421  143.6925\n",
       "(146.745, 152.851]            71.282167  149.7980\n",
       "(152.851, 158.956]            70.234500  155.9035"
      ]
     },
     "execution_count": 8,
     "metadata": {},
     "output_type": "execute_result"
    }
   ],
   "source": [
    "cond_exp_h = pd.DataFrame(index=corr_table.columns)\n",
    "exp_h = []\n",
    "for inter_w in corr_table.columns:\n",
    "    exph = 0\n",
    "    count = 0\n",
    "    for inter_h in corr_table.index:\n",
    "        exph += (corr_table.loc[inter_h][inter_w]*inter_h.mid)\n",
    "        count += corr_table.loc[inter_h][inter_w]\n",
    "    exp_h.append(exph/count)\n",
    "exp_h\n",
    "cond_exp_h['exp_h'] = exp_h\n",
    "cond_exp_h['ponits_w'] = mid_w\n",
    "cond_exp_h"
   ]
  },
  {
   "cell_type": "markdown",
   "id": "657763ec",
   "metadata": {},
   "source": [
    "Условные средние при возрастании роста/веса возрастают, за исключением одного случая. Это связано с тем, что линейная зависиомсть слабая."
   ]
  },
  {
   "cell_type": "markdown",
   "id": "65c4b174",
   "metadata": {},
   "source": [
    "## coefficient correlation"
   ]
  },
  {
   "cell_type": "code",
   "execution_count": 9,
   "id": "3d19a9d4",
   "metadata": {},
   "outputs": [
    {
     "data": {
      "text/plain": [
       "0.5539885638495651"
      ]
     },
     "execution_count": 9,
     "metadata": {},
     "output_type": "execute_result"
    }
   ],
   "source": [
    "data=data.rename(columns={'Height': 'h', 'Weight': 'w'})\n",
    "coeffs_corr = (data['h*w'].mean() - data['h'].mean()*data['w'].mean())/(data['h'].std()*data['w'].std())\n",
    "coeffs_corr"
   ]
  },
  {
   "cell_type": "markdown",
   "id": "72a0e9c0",
   "metadata": {},
   "source": [
    "## linear regression"
   ]
  },
  {
   "cell_type": "code",
   "execution_count": 10,
   "id": "259f2af0",
   "metadata": {},
   "outputs": [
    {
     "data": {
      "text/plain": [
       "(3.414506825872228, -104.7931041154992)"
      ]
     },
     "execution_count": 10,
     "metadata": {},
     "output_type": "execute_result"
    }
   ],
   "source": [
    "b = (data['h*w'].mean()-data['h'].mean()*data['w'].mean())/data['h'].var()\n",
    "a = data['w'].mean() - data['h'].mean()*b\n",
    "b, a"
   ]
  },
  {
   "cell_type": "markdown",
   "id": "85e8196d",
   "metadata": {},
   "source": [
    "w'= 3.4145068258717488*h - 104.79310411546652"
   ]
  },
  {
   "cell_type": "code",
   "execution_count": 37,
   "id": "df9255b1",
   "metadata": {},
   "outputs": [
    {
     "data": {
      "text/html": [
       "<div>\n",
       "<style scoped>\n",
       "    .dataframe tbody tr th:only-of-type {\n",
       "        vertical-align: middle;\n",
       "    }\n",
       "\n",
       "    .dataframe tbody tr th {\n",
       "        vertical-align: top;\n",
       "    }\n",
       "\n",
       "    .dataframe thead th {\n",
       "        text-align: right;\n",
       "    }\n",
       "</style>\n",
       "<table border=\"1\" class=\"dataframe\">\n",
       "  <thead>\n",
       "    <tr style=\"text-align: right;\">\n",
       "      <th></th>\n",
       "      <th>h</th>\n",
       "      <th>w</th>\n",
       "      <th>h^2</th>\n",
       "      <th>w^2</th>\n",
       "      <th>h*w</th>\n",
       "      <th>w'</th>\n",
       "    </tr>\n",
       "  </thead>\n",
       "  <tbody>\n",
       "    <tr>\n",
       "      <th>0</th>\n",
       "      <td>65.78331</td>\n",
       "      <td>112.9925</td>\n",
       "      <td>4327.443875</td>\n",
       "      <td>12767.305056</td>\n",
       "      <td>7433.020655</td>\n",
       "      <td>119.824457</td>\n",
       "    </tr>\n",
       "    <tr>\n",
       "      <th>1</th>\n",
       "      <td>71.51521</td>\n",
       "      <td>136.4873</td>\n",
       "      <td>5114.425261</td>\n",
       "      <td>18628.783061</td>\n",
       "      <td>9760.917922</td>\n",
       "      <td>139.396069</td>\n",
       "    </tr>\n",
       "    <tr>\n",
       "      <th>2</th>\n",
       "      <td>69.39874</td>\n",
       "      <td>153.0269</td>\n",
       "      <td>4816.185114</td>\n",
       "      <td>23417.232124</td>\n",
       "      <td>10619.874046</td>\n",
       "      <td>132.169367</td>\n",
       "    </tr>\n",
       "    <tr>\n",
       "      <th>3</th>\n",
       "      <td>68.21660</td>\n",
       "      <td>142.3354</td>\n",
       "      <td>4653.504516</td>\n",
       "      <td>20259.366093</td>\n",
       "      <td>9709.637048</td>\n",
       "      <td>128.132942</td>\n",
       "    </tr>\n",
       "    <tr>\n",
       "      <th>4</th>\n",
       "      <td>67.78781</td>\n",
       "      <td>144.2971</td>\n",
       "      <td>4595.187185</td>\n",
       "      <td>20821.653068</td>\n",
       "      <td>9781.584398</td>\n",
       "      <td>126.668836</td>\n",
       "    </tr>\n",
       "    <tr>\n",
       "      <th>...</th>\n",
       "      <td>...</td>\n",
       "      <td>...</td>\n",
       "      <td>...</td>\n",
       "      <td>...</td>\n",
       "      <td>...</td>\n",
       "      <td>...</td>\n",
       "    </tr>\n",
       "    <tr>\n",
       "      <th>195</th>\n",
       "      <td>65.79799</td>\n",
       "      <td>120.8431</td>\n",
       "      <td>4329.375488</td>\n",
       "      <td>14603.054818</td>\n",
       "      <td>7951.233085</td>\n",
       "      <td>119.874582</td>\n",
       "    </tr>\n",
       "    <tr>\n",
       "      <th>196</th>\n",
       "      <td>66.10558</td>\n",
       "      <td>115.7813</td>\n",
       "      <td>4369.947707</td>\n",
       "      <td>13405.309430</td>\n",
       "      <td>7653.789990</td>\n",
       "      <td>120.924850</td>\n",
       "    </tr>\n",
       "    <tr>\n",
       "      <th>197</th>\n",
       "      <td>68.23987</td>\n",
       "      <td>128.3019</td>\n",
       "      <td>4656.679858</td>\n",
       "      <td>16461.377544</td>\n",
       "      <td>8755.304977</td>\n",
       "      <td>128.212398</td>\n",
       "    </tr>\n",
       "    <tr>\n",
       "      <th>198</th>\n",
       "      <td>68.02403</td>\n",
       "      <td>127.4718</td>\n",
       "      <td>4627.268657</td>\n",
       "      <td>16249.059795</td>\n",
       "      <td>8671.145547</td>\n",
       "      <td>127.475411</td>\n",
       "    </tr>\n",
       "    <tr>\n",
       "      <th>199</th>\n",
       "      <td>71.39044</td>\n",
       "      <td>127.8761</td>\n",
       "      <td>5096.594923</td>\n",
       "      <td>16352.296951</td>\n",
       "      <td>9129.131044</td>\n",
       "      <td>138.970041</td>\n",
       "    </tr>\n",
       "  </tbody>\n",
       "</table>\n",
       "<p>200 rows × 6 columns</p>\n",
       "</div>"
      ],
      "text/plain": [
       "            h         w          h^2           w^2           h*w          w'\n",
       "0    65.78331  112.9925  4327.443875  12767.305056   7433.020655  119.824457\n",
       "1    71.51521  136.4873  5114.425261  18628.783061   9760.917922  139.396069\n",
       "2    69.39874  153.0269  4816.185114  23417.232124  10619.874046  132.169367\n",
       "3    68.21660  142.3354  4653.504516  20259.366093   9709.637048  128.132942\n",
       "4    67.78781  144.2971  4595.187185  20821.653068   9781.584398  126.668836\n",
       "..        ...       ...          ...           ...           ...         ...\n",
       "195  65.79799  120.8431  4329.375488  14603.054818   7951.233085  119.874582\n",
       "196  66.10558  115.7813  4369.947707  13405.309430   7653.789990  120.924850\n",
       "197  68.23987  128.3019  4656.679858  16461.377544   8755.304977  128.212398\n",
       "198  68.02403  127.4718  4627.268657  16249.059795   8671.145547  127.475411\n",
       "199  71.39044  127.8761  5096.594923  16352.296951   9129.131044  138.970041\n",
       "\n",
       "[200 rows x 6 columns]"
      ]
     },
     "execution_count": 37,
     "metadata": {},
     "output_type": "execute_result"
    }
   ],
   "source": [
    "def predict_regression(height):\n",
    "    return 3.4145068258717488*height - 104.79310411546652\n",
    "\n",
    "data[\"w'\"] = predict_regression(data['h'])\n",
    "data"
   ]
  },
  {
   "cell_type": "code",
   "execution_count": 38,
   "id": "8cc9f811",
   "metadata": {},
   "outputs": [
    {
     "data": {
      "text/plain": [
       "0.3069033288760172"
      ]
     },
     "execution_count": 38,
     "metadata": {},
     "output_type": "execute_result"
    }
   ],
   "source": [
    "r = data[\"w'\"].var()/data['w'].var()\n",
    "r"
   ]
  },
  {
   "cell_type": "markdown",
   "id": "8da5e736",
   "metadata": {},
   "source": [
    "Шкала Чеддока указывает на умеренную силу линейной связи"
   ]
  },
  {
   "cell_type": "code",
   "execution_count": 39,
   "id": "9afeaba9",
   "metadata": {},
   "outputs": [
    {
     "data": {
      "text/plain": [
       "Text(0, 0.5, 'Weight')"
      ]
     },
     "execution_count": 39,
     "metadata": {},
     "output_type": "execute_result"
    },
    {
     "data": {
      "image/png": "[encoded data removed]",
      "text/plain": [
       "<Figure size 432x288 with 1 Axes>"
      ]
     },
     "metadata": {
      "needs_background": "light"
     },
     "output_type": "display_data"
    }
   ],
   "source": [
    "plt.plot(data[\"h\"], data[\"w'\"], color='red')\n",
    "plt.scatter(data[\"h\"], data[\"w\"], s=5)\n",
    "plt.scatter(cond_exp_w['ponits_h'], cond_exp_w['exp_w'])\n",
    "plt.xlabel('Height')\n",
    "plt.ylabel('Weight')"
   ]
  },
  {
   "cell_type": "markdown",
   "id": "3ec1946a",
   "metadata": {},
   "source": [
    "### explained variance"
   ]
  },
  {
   "cell_type": "code",
   "execution_count": 40,
   "id": "d3be6262",
   "metadata": {},
   "outputs": [
    {
     "data": {
      "text/plain": [
       "43.90722199622113"
      ]
     },
     "execution_count": 40,
     "metadata": {},
     "output_type": "execute_result"
    }
   ],
   "source": [
    "expl_var = data[\"w'\"].var()\n",
    "expl_var"
   ]
  },
  {
   "cell_type": "markdown",
   "id": "02c6689a",
   "metadata": {},
   "source": [
    "### unexplained variance (дисперсия остатков)"
   ]
  },
  {
   "cell_type": "code",
   "execution_count": 41,
   "id": "6e6db2e1",
   "metadata": {},
   "outputs": [
    {
     "data": {
      "text/plain": [
       "98.71681626765245"
      ]
     },
     "execution_count": 41,
     "metadata": {},
     "output_type": "execute_result"
    }
   ],
   "source": [
    "unexpl_var = ((data[\"w'\"] - data['w'])).var()\n",
    "unexpl_var"
   ]
  },
  {
   "cell_type": "markdown",
   "id": "a8c79dcc",
   "metadata": {},
   "source": [
    "### коэффициент детерминации"
   ]
  },
  {
   "cell_type": "code",
   "execution_count": 19,
   "id": "da9d3629",
   "metadata": {},
   "outputs": [
    {
     "data": {
      "text/plain": [
       "0.3069033288760172"
      ]
     },
     "execution_count": 19,
     "metadata": {},
     "output_type": "execute_result"
    }
   ],
   "source": [
    "R_2 = expl_var/data['w'].var()\n",
    "R_2"
   ]
  },
  {
   "cell_type": "markdown",
   "id": "329f8f28",
   "metadata": {},
   "source": [
    "### F статистика"
   ]
  },
  {
   "cell_type": "code",
   "execution_count": 20,
   "id": "53952128",
   "metadata": {},
   "outputs": [
    {
     "data": {
      "text/plain": [
       "0.444779558906912"
      ]
     },
     "execution_count": 20,
     "metadata": {},
     "output_type": "execute_result"
    }
   ],
   "source": [
    "F_statistic = expl_var/unexpl_var\n",
    "F_statistic"
   ]
  },
  {
   "cell_type": "code",
   "execution_count": 26,
   "id": "ca3e545c-f009-4e8a-8a33-927869f06ff9",
   "metadata": {},
   "outputs": [
    {
     "data": {
      "text/plain": [
       "87.67443511005015"
      ]
     },
     "execution_count": 26,
     "metadata": {},
     "output_type": "execute_result"
    }
   ],
   "source": [
    "n = len(data['w'])\n",
    "k = 1 # количество оцениваемых параметров\n",
    "deg_of_fredom = n - 1 - k\n",
    "F_statistic = R_2/(1-R_2)*deg_of_fredom\n",
    "F_statistic"
   ]
  },
  {
   "cell_type": "markdown",
   "id": "a00631ae-ca75-4872-a678-342bd9a91499",
   "metadata": {},
   "source": [
    "### Стандартные ошибки регресии"
   ]
  },
  {
   "cell_type": "code",
   "execution_count": 32,
   "id": "935db219-e39f-44ba-b142-1524b8955be5",
   "metadata": {},
   "outputs": [
    {
     "data": {
      "text/plain": [
       "9.985687548982872"
      ]
     },
     "execution_count": 32,
     "metadata": {},
     "output_type": "execute_result"
    }
   ],
   "source": [
    "from math import sqrt\n",
    "st_error = sqrt(unexpl_var/deg_of_fredom*n)\n",
    "st_error"
   ]
  },
  {
   "cell_type": "code",
   "execution_count": 35,
   "id": "3053e435-8166-489e-a4c7-227c10148322",
   "metadata": {},
   "outputs": [
    {
     "data": {
      "text/plain": [
       "24.73364447552331"
      ]
     },
     "execution_count": 35,
     "metadata": {},
     "output_type": "execute_result"
    }
   ],
   "source": [
    "st_error_a = st_error*sqrt(data['h^2'].mean()/data['h'].var()/n)\n",
    "st_error_a"
   ]
  },
  {
   "cell_type": "code",
   "execution_count": 36,
   "id": "05f97c95-f1c0-4171-8d0f-471040035d51",
   "metadata": {},
   "outputs": [
    {
     "data": {
      "text/plain": [
       "0.36385050347448983"
      ]
     },
     "execution_count": 36,
     "metadata": {},
     "output_type": "execute_result"
    }
   ],
   "source": [
    "st_error_b = st_error/sqrt(data['h'].var()*n)\n",
    "st_error_b"
   ]
  },
  {
   "cell_type": "markdown",
   "id": "1827441a-c592-49ba-b83c-604743d78b4e",
   "metadata": {},
   "source": [
    "### Prediction for height = 79"
   ]
  },
  {
   "cell_type": "code",
   "execution_count": 42,
   "id": "00d231c9-e5eb-4097-9920-7476e17505cd",
   "metadata": {},
   "outputs": [
    {
     "data": {
      "text/plain": [
       "164.95293512840163"
      ]
     },
     "execution_count": 42,
     "metadata": {},
     "output_type": "execute_result"
    }
   ],
   "source": [
    "predict_w = predict_regression(79)\n",
    "predict_w"
   ]
  },
  {
   "cell_type": "markdown",
   "id": "30513edc-7ab6-4d5f-ba88-5438453975b6",
   "metadata": {},
   "source": [
    "## built in regression"
   ]
  },
  {
   "cell_type": "code",
   "execution_count": 58,
   "id": "73923229-631c-4a04-ac48-cda26189c26b",
   "metadata": {},
   "outputs": [],
   "source": [
    "import statsmodels.api as sm"
   ]
  },
  {
   "cell_type": "code",
   "execution_count": 99,
   "id": "dbb5db83-792f-48dc-aed0-c84120a88f80",
   "metadata": {},
   "outputs": [
    {
     "data": {
      "text/html": [
       "<table class=\"simpletable\">\n",
       "<caption>OLS Regression Results</caption>\n",
       "<tr>\n",
       "  <th>Dep. Variable:</th>            <td>y</td>        <th>  R-squared:         </th> <td>   0.310</td>\n",
       "</tr>\n",
       "<tr>\n",
       "  <th>Model:</th>                   <td>OLS</td>       <th>  Adj. R-squared:    </th> <td>   0.307</td>\n",
       "</tr>\n",
       "<tr>\n",
       "  <th>Method:</th>             <td>Least Squares</td>  <th>  F-statistic:       </th> <td>   88.95</td>\n",
       "</tr>\n",
       "<tr>\n",
       "  <th>Date:</th>             <td>Mon, 13 Mar 2023</td> <th>  Prob (F-statistic):</th> <td>1.12e-17</td>\n",
       "</tr>\n",
       "<tr>\n",
       "  <th>Time:</th>                 <td>18:26:15</td>     <th>  Log-Likelihood:    </th> <td> -742.51</td>\n",
       "</tr>\n",
       "<tr>\n",
       "  <th>No. Observations:</th>      <td>   200</td>      <th>  AIC:               </th> <td>   1489.</td>\n",
       "</tr>\n",
       "<tr>\n",
       "  <th>Df Residuals:</th>          <td>   198</td>      <th>  BIC:               </th> <td>   1496.</td>\n",
       "</tr>\n",
       "<tr>\n",
       "  <th>Df Model:</th>              <td>     1</td>      <th>                     </th>     <td> </td>   \n",
       "</tr>\n",
       "<tr>\n",
       "  <th>Covariance Type:</th>      <td>nonrobust</td>    <th>                     </th>     <td> </td>   \n",
       "</tr>\n",
       "</table>\n",
       "<table class=\"simpletable\">\n",
       "<tr>\n",
       "    <td></td>       <th>coef</th>     <th>std err</th>      <th>t</th>      <th>P>|t|</th>  <th>[0.025</th>    <th>0.975]</th>  \n",
       "</tr>\n",
       "<tr>\n",
       "  <th>x1</th>    <td>    3.4317</td> <td>    0.364</td> <td>    9.432</td> <td> 0.000</td> <td>    2.714</td> <td>    4.149</td>\n",
       "</tr>\n",
       "<tr>\n",
       "  <th>const</th> <td> -105.9590</td> <td>   24.734</td> <td>   -4.284</td> <td> 0.000</td> <td> -154.734</td> <td>  -57.184</td>\n",
       "</tr>\n",
       "</table>\n",
       "<table class=\"simpletable\">\n",
       "<tr>\n",
       "  <th>Omnibus:</th>       <td> 0.231</td> <th>  Durbin-Watson:     </th> <td>   2.021</td>\n",
       "</tr>\n",
       "<tr>\n",
       "  <th>Prob(Omnibus):</th> <td> 0.891</td> <th>  Jarque-Bera (JB):  </th> <td>   0.200</td>\n",
       "</tr>\n",
       "<tr>\n",
       "  <th>Skew:</th>          <td>-0.076</td> <th>  Prob(JB):          </th> <td>   0.905</td>\n",
       "</tr>\n",
       "<tr>\n",
       "  <th>Kurtosis:</th>      <td> 2.972</td> <th>  Cond. No.          </th> <td>2.39e+03</td>\n",
       "</tr>\n",
       "</table><br/><br/>Notes:<br/>[1] Standard Errors assume that the covariance matrix of the errors is correctly specified.<br/>[2] The condition number is large, 2.39e+03. This might indicate that there are<br/>strong multicollinearity or other numerical problems."
      ],
      "text/plain": [
       "<class 'statsmodels.iolib.summary.Summary'>\n",
       "\"\"\"\n",
       "                            OLS Regression Results                            \n",
       "==============================================================================\n",
       "Dep. Variable:                      y   R-squared:                       0.310\n",
       "Model:                            OLS   Adj. R-squared:                  0.307\n",
       "Method:                 Least Squares   F-statistic:                     88.95\n",
       "Date:                Mon, 13 Mar 2023   Prob (F-statistic):           1.12e-17\n",
       "Time:                        18:26:15   Log-Likelihood:                -742.51\n",
       "No. Observations:                 200   AIC:                             1489.\n",
       "Df Residuals:                     198   BIC:                             1496.\n",
       "Df Model:                           1                                         \n",
       "Covariance Type:            nonrobust                                         \n",
       "==============================================================================\n",
       "                 coef    std err          t      P>|t|      [0.025      0.975]\n",
       "------------------------------------------------------------------------------\n",
       "x1             3.4317      0.364      9.432      0.000       2.714       4.149\n",
       "const       -105.9590     24.734     -4.284      0.000    -154.734     -57.184\n",
       "==============================================================================\n",
       "Omnibus:                        0.231   Durbin-Watson:                   2.021\n",
       "Prob(Omnibus):                  0.891   Jarque-Bera (JB):                0.200\n",
       "Skew:                          -0.076   Prob(JB):                        0.905\n",
       "Kurtosis:                       2.972   Cond. No.                     2.39e+03\n",
       "==============================================================================\n",
       "\n",
       "Notes:\n",
       "[1] Standard Errors assume that the covariance matrix of the errors is correctly specified.\n",
       "[2] The condition number is large, 2.39e+03. This might indicate that there are\n",
       "strong multicollinearity or other numerical problems.\n",
       "\"\"\""
      ]
     },
     "execution_count": 99,
     "metadata": {},
     "output_type": "execute_result"
    }
   ],
   "source": [
    "w = data['w'].values\n",
    "h = data['h'].values\n",
    "h = sm.add_constant(h, prepend=False)\n",
    "model = sm.OLS(w, h).fit()\n",
    "model.summary()"
   ]
  },
  {
   "cell_type": "code",
   "execution_count": 110,
   "id": "3b6a4434-ec47-445d-ace3-8c9126234834",
   "metadata": {},
   "outputs": [
    {
     "data": {
      "text/plain": [
       "array([65.78331,  1.     ])"
      ]
     },
     "execution_count": 110,
     "metadata": {},
     "output_type": "execute_result"
    }
   ],
   "source": [
    "h[0]"
   ]
  },
  {
   "cell_type": "code",
   "execution_count": 108,
   "id": "a3da37b3-20dc-4a23-80c9-ec3c20276364",
   "metadata": {},
   "outputs": [
    {
     "data": {
      "text/plain": [
       "array([165.14253593])"
      ]
     },
     "execution_count": 108,
     "metadata": {},
     "output_type": "execute_result"
    }
   ],
   "source": [
    "model.predict([79, 1])"
   ]
  },
  {
   "cell_type": "markdown",
   "id": "c142d290-fc6b-4e4d-bf34-6c3c095d2c81",
   "metadata": {},
   "source": [
    "### Conclusion"
   ]
  },
  {
   "cell_type": "code",
   "execution_count": null,
   "id": "f3caa1fb-509e-4b9d-a39c-2f81f1e37e23",
   "metadata": {},
   "outputs": [],
   "source": [
    "1. Коэффициенты встроенной модели и посчитанные разичаются незначительно из-за использования для некоторых статистик интервальной таблицы.\n",
    "2. Вест и рос обладает довольно слабой зависимостью, что видно из коэффициента детреминации и корреляционного облака."
   ]
  }
 ],
 "metadata": {
  "kernelspec": {
   "display_name": "Python 3 (ipykernel)",
   "language": "python",
   "name": "python3"
  },
  "language_info": {
   "codemirror_mode": {
    "name": "ipython",
    "version": 3
   },
   "file_extension": ".py",
   "mimetype": "text/x-python",
   "name": "python",
   "nbconvert_exporter": "python",
   "pygments_lexer": "ipython3",
   "version": "3.9.7"
  }
 },
 "nbformat": 4,
 "nbformat_minor": 5
}
